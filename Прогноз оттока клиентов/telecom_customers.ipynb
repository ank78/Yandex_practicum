{
 "cells": [
  {
   "cell_type": "markdown",
   "id": "df5e4403",
   "metadata": {
    "toc": true
   },
   "source": [
    "<h1>Содержание<span class=\"tocSkip\"></span></h1>\n",
    "<div class=\"toc\"><ul class=\"toc-item\"><li><span><a href=\"#Описание-проекта\" data-toc-modified-id=\"Описание-проекта-1\"><span class=\"toc-item-num\">1&nbsp;&nbsp;</span>Описание проекта</a></span></li><li><span><a href=\"#Описание-деятельности-компании\" data-toc-modified-id=\"Описание-деятельности-компании-2\"><span class=\"toc-item-num\">2&nbsp;&nbsp;</span>Описание деятельности компании</a></span></li><li><span><a href=\"#Описание-данных\" data-toc-modified-id=\"Описание-данных-3\"><span class=\"toc-item-num\">3&nbsp;&nbsp;</span>Описание данных</a></span><ul class=\"toc-item\"><li><span><a href=\"#Таблица-contract\" data-toc-modified-id=\"Таблица-contract-3.1\"><span class=\"toc-item-num\">3.1&nbsp;&nbsp;</span>Таблица contract</a></span></li><li><span><a href=\"#Таблица-personal\" data-toc-modified-id=\"Таблица-personal-3.2\"><span class=\"toc-item-num\">3.2&nbsp;&nbsp;</span>Таблица personal</a></span></li><li><span><a href=\"#Таблица-internet\" data-toc-modified-id=\"Таблица-internet-3.3\"><span class=\"toc-item-num\">3.3&nbsp;&nbsp;</span>Таблица internet</a></span></li><li><span><a href=\"#Таблица-phone\" data-toc-modified-id=\"Таблица-phone-3.4\"><span class=\"toc-item-num\">3.4&nbsp;&nbsp;</span>Таблица phone</a></span></li></ul></li><li><span><a href=\"#Цель-проекта\" data-toc-modified-id=\"Цель-проекта-4\"><span class=\"toc-item-num\">4&nbsp;&nbsp;</span>Цель проекта</a></span></li><li><span><a href=\"#Изучение-данных\" data-toc-modified-id=\"Изучение-данных-5\"><span class=\"toc-item-num\">5&nbsp;&nbsp;</span>Изучение данных</a></span><ul class=\"toc-item\"><li><span><a href=\"#Датасет-contract\" data-toc-modified-id=\"Датасет-contract-5.1\"><span class=\"toc-item-num\">5.1&nbsp;&nbsp;</span>Датасет contract</a></span><ul class=\"toc-item\"><li><span><a href=\"#Вывод-по-разделу:\" data-toc-modified-id=\"Вывод-по-разделу:-5.1.1\"><span class=\"toc-item-num\">5.1.1&nbsp;&nbsp;</span>Вывод по разделу:</a></span></li></ul></li><li><span><a href=\"#Датасет-personal\" data-toc-modified-id=\"Датасет-personal-5.2\"><span class=\"toc-item-num\">5.2&nbsp;&nbsp;</span>Датасет personal</a></span><ul class=\"toc-item\"><li><span><a href=\"#Вывод-по-разделу\" data-toc-modified-id=\"Вывод-по-разделу-5.2.1\"><span class=\"toc-item-num\">5.2.1&nbsp;&nbsp;</span>Вывод по разделу</a></span></li></ul></li><li><span><a href=\"#Датасет-internet\" data-toc-modified-id=\"Датасет-internet-5.3\"><span class=\"toc-item-num\">5.3&nbsp;&nbsp;</span>Датасет internet</a></span><ul class=\"toc-item\"><li><span><a href=\"#Вывод-по-разделу\" data-toc-modified-id=\"Вывод-по-разделу-5.3.1\"><span class=\"toc-item-num\">5.3.1&nbsp;&nbsp;</span>Вывод по разделу</a></span></li></ul></li><li><span><a href=\"#Датасет-phone\" data-toc-modified-id=\"Датасет-phone-5.4\"><span class=\"toc-item-num\">5.4&nbsp;&nbsp;</span>Датасет phone</a></span><ul class=\"toc-item\"><li><span><a href=\"#Вывод-по-разделу\" data-toc-modified-id=\"Вывод-по-разделу-5.4.1\"><span class=\"toc-item-num\">5.4.1&nbsp;&nbsp;</span>Вывод по разделу</a></span></li></ul></li></ul></li><li><span><a href=\"#Подготовка-данных\" data-toc-modified-id=\"Подготовка-данных-6\"><span class=\"toc-item-num\">6&nbsp;&nbsp;</span>Подготовка данных</a></span></li><li><span><a href=\"#Деление-на-выборки\" data-toc-modified-id=\"Деление-на-выборки-7\"><span class=\"toc-item-num\">7&nbsp;&nbsp;</span>Деление на выборки</a></span></li><li><span><a href=\"#Обучение-моделей\" data-toc-modified-id=\"Обучение-моделей-8\"><span class=\"toc-item-num\">8&nbsp;&nbsp;</span>Обучение моделей</a></span><ul class=\"toc-item\"><li><span><a href=\"#Модель-LogisticRegression\" data-toc-modified-id=\"Модель-LogisticRegression-8.1\"><span class=\"toc-item-num\">8.1&nbsp;&nbsp;</span>Модель LogisticRegression</a></span></li><li><span><a href=\"#Модель-RandomForestClassifier\" data-toc-modified-id=\"Модель-RandomForestClassifier-8.2\"><span class=\"toc-item-num\">8.2&nbsp;&nbsp;</span>Модель RandomForestClassifier</a></span></li><li><span><a href=\"#Модель-CatBoostClassifier\" data-toc-modified-id=\"Модель-CatBoostClassifier-8.3\"><span class=\"toc-item-num\">8.3&nbsp;&nbsp;</span>Модель CatBoostClassifier</a></span></li></ul></li><li><span><a href=\"#Тестирование-лучшей-модели\" data-toc-modified-id=\"Тестирование-лучшей-модели-9\"><span class=\"toc-item-num\">9&nbsp;&nbsp;</span>Тестирование лучшей модели</a></span></li><li><span><a href=\"#Важность-признаков\" data-toc-modified-id=\"Важность-признаков-10\"><span class=\"toc-item-num\">10&nbsp;&nbsp;</span>Важность признаков</a></span></li><li><span><a href=\"#Вывод\" data-toc-modified-id=\"Вывод-11\"><span class=\"toc-item-num\">11&nbsp;&nbsp;</span>Вывод</a></span></li></ul></div>"
   ]
  },
  {
   "cell_type": "markdown",
   "id": "4cb3d79a-b4c7-4a29-9c0b-5ed416bdafed",
   "metadata": {},
   "source": [
    "## Описание проекта\n",
    "\n",
    "Оператор связи  хочет научиться прогнозировать отток клиентов. Если выяснится, что пользователь планирует уйти, ему будут предложены промокоды и специальные условия. Команда оператора собрала персональные данные о некоторых клиентах, информацию об их тарифах и договорах.\n",
    "\n",
    "## Описание деятельности компании\n",
    "Оператор предоставляет два основных типа услуг: \n",
    "- Стационарную телефонную связь. Возможно подключение телефонного аппарата к нескольким линиям одновременно.\n",
    "- Интернет. Подключение может быть двух типов: через телефонную линию (DSL, от англ. digital subscriber line, «цифровая абонентская линия») или оптоволоконный кабель (Fiber optic).\n",
    "\n",
    "Также доступны такие услуги:\n",
    "- Интернет-безопасность: антивирус (DeviceProtection) и блокировка небезопасных сайтов (OnlineSecurity);\n",
    "- Выделенная линия технической поддержки (TechSupport);\n",
    "- Облачное хранилище файлов для резервного копирования данных (OnlineBackup);\n",
    "- Стриминговое телевидение (StreamingTV) и каталог фильмов (StreamingMovies).\n",
    "\n",
    "За услуги клиенты могут платить каждый месяц или заключить договор на 1–2 года. Доступны различные способы расчёта и возможность получения электронного чека.\n",
    "\n",
    "## Описание данных\n",
    "\n",
    "Данные состоят из файлов, полученных из разных источников:\n",
    "- contract_new.csv — информация о договоре;\n",
    "- personal_new.csv — персональные данные клиента;\n",
    "- internet_new.csv — информация об интернет-услугах;\n",
    "- phone_new.csv — информация об услугах телефонии.\n",
    "\n",
    "Во всех файлах столбец customerID содержит код клиента.\n",
    "Информация о договорах актуальна на 1 февраля 2020.\n",
    "\n",
    "### Таблица contract\n",
    "- customerID — ID абонента;\n",
    "- BeginDate — дата начала действия договора;\n",
    "- EndDate — дата окончания действия договора;\n",
    "- Type — тип оплаты: раз в год-два или ежемесячно;\n",
    "- PaperlessBilling — электронный расчётный лист;\n",
    "- PaymentMethod — тип платежа;\n",
    "- MonthlyCharges — расходы за месяц;\n",
    "- TotalCharges — общие расходы абонента.\n",
    "\n",
    "### Таблица personal\n",
    "- customerID — ID пользователя;\n",
    "- gender — пол;\n",
    "- SeniorCitizen — является ли абонент пенсионером;\n",
    "- Partner — есть ли у абонента супруг или супруга;\n",
    "- Dependents — есть ли у абонента дети.\n",
    "\n",
    "### Таблица internet\n",
    "- customerID — ID пользователя;\n",
    "- InternetService — тип подключения;\n",
    "- OnlineSecurity — блокировка опасных сайтов;\n",
    "- OnlineBackup — облачное хранилище файлов для резервного копирования данных;\n",
    "- DeviceProtection — антивирус;\n",
    "- TechSupport — выделенная линия технической поддержки;\n",
    "- StreamingTV — стриминговое телевидение;\n",
    "- StreamingMovies — каталог фильмов.\n",
    "\n",
    "\n",
    "### Таблица phone\n",
    "- customerID — ID пользователя;\n",
    "- MultipleLines — подключение телефона к нескольким линиям одновременно."
   ]
  },
  {
   "cell_type": "markdown",
   "id": "58d85064-d59c-4336-b718-681cbb172ad6",
   "metadata": {},
   "source": [
    "## Цель проекта\n",
    "\n",
    "Создать модель для прогнозирования ухода клиентов. Целевая метрика: ROC AUC >= 0.85"
   ]
  },
  {
   "cell_type": "markdown",
   "id": "e0eafa0f-53d3-409c-bf20-e2859d817dca",
   "metadata": {},
   "source": [
    "# Исследовательский анализ данных"
   ]
  },
  {
   "cell_type": "code",
   "execution_count": 1,
   "id": "6f4abe39-0f55-4b58-86fc-dad8476b2830",
   "metadata": {},
   "outputs": [
    {
     "name": "stdout",
     "output_type": "stream",
     "text": [
      "Collecting phik\n",
      "  Downloading phik-0.12.3-cp39-cp39-manylinux_2_17_x86_64.manylinux2014_x86_64.whl (679 kB)\n",
      "\u001b[K     |████████████████████████████████| 679 kB 2.1 MB/s eta 0:00:01\n",
      "\u001b[?25hRequirement already satisfied: pandas>=0.25.1 in /opt/conda/lib/python3.9/site-packages (from phik) (1.2.4)\n",
      "Requirement already satisfied: matplotlib>=2.2.3 in /opt/conda/lib/python3.9/site-packages (from phik) (3.3.4)\n",
      "Requirement already satisfied: scipy>=1.5.2 in /opt/conda/lib/python3.9/site-packages (from phik) (1.9.1)\n",
      "Requirement already satisfied: joblib>=0.14.1 in /opt/conda/lib/python3.9/site-packages (from phik) (1.1.0)\n",
      "Requirement already satisfied: numpy>=1.18.0 in /opt/conda/lib/python3.9/site-packages (from phik) (1.21.1)\n",
      "Requirement already satisfied: kiwisolver>=1.0.1 in /opt/conda/lib/python3.9/site-packages (from matplotlib>=2.2.3->phik) (1.4.4)\n",
      "Requirement already satisfied: cycler>=0.10 in /opt/conda/lib/python3.9/site-packages (from matplotlib>=2.2.3->phik) (0.11.0)\n",
      "Requirement already satisfied: python-dateutil>=2.1 in /opt/conda/lib/python3.9/site-packages (from matplotlib>=2.2.3->phik) (2.8.1)\n",
      "Requirement already satisfied: pillow>=6.2.0 in /opt/conda/lib/python3.9/site-packages (from matplotlib>=2.2.3->phik) (8.4.0)\n",
      "Requirement already satisfied: pyparsing!=2.0.4,!=2.1.2,!=2.1.6,>=2.0.3 in /opt/conda/lib/python3.9/site-packages (from matplotlib>=2.2.3->phik) (2.4.7)\n",
      "Requirement already satisfied: pytz>=2017.3 in /opt/conda/lib/python3.9/site-packages (from pandas>=0.25.1->phik) (2021.1)\n",
      "Requirement already satisfied: six>=1.5 in /opt/conda/lib/python3.9/site-packages (from python-dateutil>=2.1->matplotlib>=2.2.3->phik) (1.16.0)\n",
      "Installing collected packages: phik\n",
      "Successfully installed phik-0.12.3\n"
     ]
    }
   ],
   "source": [
    "import pandas as pd\n",
    "import numpy as np\n",
    "import matplotlib as mpl\n",
    "import matplotlib.pyplot as plt\n",
    "import seaborn as sns\n",
    "\n",
    "from lightgbm import LGBMClassifier\n",
    "\n",
    "from catboost import CatBoostClassifier\n",
    "\n",
    "import sklearn\n",
    "from sklearn.linear_model import LogisticRegression\n",
    "from sklearn.ensemble import RandomForestClassifier\n",
    "from sklearn.preprocessing import StandardScaler, OneHotEncoder\n",
    "from sklearn.pipeline import Pipeline\n",
    "from sklearn.compose import ColumnTransformer\n",
    "from sklearn.model_selection import train_test_split\n",
    "from sklearn.decomposition import PCA\n",
    "from sklearn.metrics import auc, roc_auc_score, precision_recall_curve, classification_report, roc_curve\n",
    "from sklearn.metrics import confusion_matrix, precision_score, recall_score, ConfusionMatrixDisplay\n",
    "\n",
    "from sklearn.experimental import enable_halving_search_cv\n",
    "from sklearn.model_selection import HalvingGridSearchCV\n",
    "\n",
    "import warnings\n",
    "\n",
    "import os\n",
    "from datetime import datetime\n",
    "\n",
    "   \n",
    "try:\n",
    "    import phik\n",
    "except ModuleNotFoundError:\n",
    "    !pip install phik\n",
    "    import phik\n",
    "    \n",
    "from phik.report import plot_correlation_matrix    \n",
    "\n",
    "warnings.filterwarnings('ignore')"
   ]
  },
  {
   "cell_type": "code",
   "execution_count": 2,
   "id": "76ccf2d1-16bd-45bf-95cf-4c80d0e2b369",
   "metadata": {},
   "outputs": [
    {
     "name": "stdout",
     "output_type": "stream",
     "text": [
      "pd.__version__: 1.2.4\n",
      "np.__version__: 1.21.1\n",
      "mpl.__version__: 3.3.4\n",
      "sns.__version__: 0.11.1\n",
      "sklearn.__version__: 0.24.1\n"
     ]
    }
   ],
   "source": [
    "print('pd.__version__:', pd.__version__)\n",
    "print('np.__version__:', np.__version__)\n",
    "print('mpl.__version__:', mpl.__version__)\n",
    "print('sns.__version__:', sns.__version__)\n",
    "print('sklearn.__version__:', sklearn.__version__)"
   ]
  },
  {
   "cell_type": "code",
   "execution_count": 3,
   "id": "dd335c23-8fb7-4840-ba01-61508357411f",
   "metadata": {},
   "outputs": [],
   "source": [
    "RANDOM_STATE = 180723\n",
    "DATE_EXPORT = '2020-02-01' # дата выгрузки данных"
   ]
  },
  {
   "cell_type": "code",
   "execution_count": 4,
   "id": "46d5e7ad-561f-4317-8630-48d5d00520ca",
   "metadata": {},
   "outputs": [],
   "source": [
    "root_dir = '/datasets/'\n",
    "try:\n",
    "    df_contract = pd.read_csv(root_dir + 'contract_new.csv')\n",
    "    df_personal = pd.read_csv(root_dir + 'personal_new.csv')\n",
    "    df_internet = pd.read_csv(root_dir + 'internet_new.csv')\n",
    "    df_phone = pd.read_csv(root_dir + 'phone_new.csv')    \n",
    "except:\n",
    "    df_contract = pd.read_csv(root_dir[1:] + 'contract_new.csv')\n",
    "    df_personal = pd.read_csv(root_dir[1:] + 'personal_new.csv')\n",
    "    df_internet = pd.read_csv(root_dir[1:] + 'internet_new.csv')\n",
    "    df_phone = pd.read_csv(root_dir[1:] + 'phone_new.csv') "
   ]
  },
  {
   "cell_type": "markdown",
   "id": "b097362e",
   "metadata": {},
   "source": [
    "## Изучение данных"
   ]
  },
  {
   "cell_type": "markdown",
   "id": "4e892ee8-c54c-48ef-aa49-f7c699ab0ce9",
   "metadata": {},
   "source": [
    "### Датасет contract"
   ]
  },
  {
   "cell_type": "markdown",
   "id": "4a5a4f0d-c301-4924-a4f5-49296b27c98d",
   "metadata": {},
   "source": [
    "Чтобы не путаться  в регистре написания имен признаков переименуем их. Для этого можно использовать библиотеки вроде skimpy, но можно написать и самим, т.к. код уместится в пару строке:"
   ]
  },
  {
   "cell_type": "code",
   "execution_count": 5,
   "id": "e348faf9-789e-4739-9966-b93f46021d23",
   "metadata": {},
   "outputs": [],
   "source": [
    "def column_to_snake_column(df):\n",
    "    return (df.columns.str.replace('(?<=[a-z])(?=[A-Z])', '_', regex=True).str.lower())"
   ]
  },
  {
   "cell_type": "code",
   "execution_count": 6,
   "id": "abbd5088-7caa-4b09-842a-2d4603b28a08",
   "metadata": {},
   "outputs": [],
   "source": [
    "df_contract.columns = column_to_snake_column(df_contract)"
   ]
  },
  {
   "cell_type": "code",
   "execution_count": 7,
   "id": "b394b2f0-6880-486d-b7cf-9bec1a4f04c8",
   "metadata": {},
   "outputs": [
    {
     "name": "stdout",
     "output_type": "stream",
     "text": [
      "<class 'pandas.core.frame.DataFrame'>\n",
      "RangeIndex: 7043 entries, 0 to 7042\n",
      "Data columns (total 8 columns):\n",
      " #   Column             Non-Null Count  Dtype  \n",
      "---  ------             --------------  -----  \n",
      " 0   customer_id        7043 non-null   object \n",
      " 1   begin_date         7043 non-null   object \n",
      " 2   end_date           7043 non-null   object \n",
      " 3   type               7043 non-null   object \n",
      " 4   paperless_billing  7043 non-null   object \n",
      " 5   payment_method     7043 non-null   object \n",
      " 6   monthly_charges    7043 non-null   float64\n",
      " 7   total_charges      7043 non-null   object \n",
      "dtypes: float64(1), object(7)\n",
      "memory usage: 440.3+ KB\n"
     ]
    }
   ],
   "source": [
    "df_contract.info()"
   ]
  },
  {
   "cell_type": "code",
   "execution_count": 8,
   "id": "d4ab7f5e-5d3e-47a6-818a-2ee0c0162fae",
   "metadata": {},
   "outputs": [
    {
     "data": {
      "text/plain": [
       "0"
      ]
     },
     "execution_count": 8,
     "metadata": {},
     "output_type": "execute_result"
    }
   ],
   "source": [
    "# дубликаты есть?\n",
    "df_contract.duplicated().sum()"
   ]
  },
  {
   "cell_type": "code",
   "execution_count": 9,
   "id": "34fc31b3-ae9c-4bf5-bbea-053613d60f09",
   "metadata": {},
   "outputs": [
    {
     "data": {
      "text/plain": [
       "0"
      ]
     },
     "execution_count": 9,
     "metadata": {},
     "output_type": "execute_result"
    }
   ],
   "source": [
    "# проверка отсутствия нескольких записей для одного клиента - PRIMARY KEY VIOLATION\n",
    "df_contract[['customer_id']].duplicated().sum()"
   ]
  },
  {
   "cell_type": "markdown",
   "id": "bfb2e96e-684d-42c7-9404-5c3b74be46f9",
   "metadata": {},
   "source": [
    "Пропусков нет. 'monthlycharges' - числовой тип, а 'totalcharges '  - нет, значит есть \"кривые\" значения. В  признаках 'begindate' и 'enddate' значения, судя по названию, относятся к типу 'datetime'."
   ]
  },
  {
   "cell_type": "markdown",
   "id": "fa319e49-44e7-4a3c-a5e6-892473c3ff16",
   "metadata": {},
   "source": [
    "Посмотрим на данные:"
   ]
  },
  {
   "cell_type": "code",
   "execution_count": 10,
   "id": "a99edaa9-7e96-4ac7-bbbb-7996720ee29d",
   "metadata": {},
   "outputs": [
    {
     "data": {
      "text/html": [
       "<div>\n",
       "<style scoped>\n",
       "    .dataframe tbody tr th:only-of-type {\n",
       "        vertical-align: middle;\n",
       "    }\n",
       "\n",
       "    .dataframe tbody tr th {\n",
       "        vertical-align: top;\n",
       "    }\n",
       "\n",
       "    .dataframe thead th {\n",
       "        text-align: right;\n",
       "    }\n",
       "</style>\n",
       "<table border=\"1\" class=\"dataframe\">\n",
       "  <thead>\n",
       "    <tr style=\"text-align: right;\">\n",
       "      <th></th>\n",
       "      <th>customer_id</th>\n",
       "      <th>begin_date</th>\n",
       "      <th>end_date</th>\n",
       "      <th>type</th>\n",
       "      <th>paperless_billing</th>\n",
       "      <th>payment_method</th>\n",
       "      <th>monthly_charges</th>\n",
       "      <th>total_charges</th>\n",
       "    </tr>\n",
       "  </thead>\n",
       "  <tbody>\n",
       "    <tr>\n",
       "      <th>0</th>\n",
       "      <td>7590-VHVEG</td>\n",
       "      <td>2020-01-01</td>\n",
       "      <td>No</td>\n",
       "      <td>Month-to-month</td>\n",
       "      <td>Yes</td>\n",
       "      <td>Electronic check</td>\n",
       "      <td>29.85</td>\n",
       "      <td>31.04</td>\n",
       "    </tr>\n",
       "    <tr>\n",
       "      <th>1</th>\n",
       "      <td>5575-GNVDE</td>\n",
       "      <td>2017-04-01</td>\n",
       "      <td>No</td>\n",
       "      <td>One year</td>\n",
       "      <td>No</td>\n",
       "      <td>Mailed check</td>\n",
       "      <td>56.95</td>\n",
       "      <td>2071.84</td>\n",
       "    </tr>\n",
       "    <tr>\n",
       "      <th>2</th>\n",
       "      <td>3668-QPYBK</td>\n",
       "      <td>2019-10-01</td>\n",
       "      <td>No</td>\n",
       "      <td>Month-to-month</td>\n",
       "      <td>Yes</td>\n",
       "      <td>Mailed check</td>\n",
       "      <td>53.85</td>\n",
       "      <td>226.17</td>\n",
       "    </tr>\n",
       "    <tr>\n",
       "      <th>3</th>\n",
       "      <td>7795-CFOCW</td>\n",
       "      <td>2016-05-01</td>\n",
       "      <td>No</td>\n",
       "      <td>One year</td>\n",
       "      <td>No</td>\n",
       "      <td>Bank transfer (automatic)</td>\n",
       "      <td>42.30</td>\n",
       "      <td>1960.6</td>\n",
       "    </tr>\n",
       "    <tr>\n",
       "      <th>4</th>\n",
       "      <td>9237-HQITU</td>\n",
       "      <td>2019-09-01</td>\n",
       "      <td>No</td>\n",
       "      <td>Month-to-month</td>\n",
       "      <td>Yes</td>\n",
       "      <td>Electronic check</td>\n",
       "      <td>70.70</td>\n",
       "      <td>353.5</td>\n",
       "    </tr>\n",
       "  </tbody>\n",
       "</table>\n",
       "</div>"
      ],
      "text/plain": [
       "  customer_id  begin_date end_date            type paperless_billing  \\\n",
       "0  7590-VHVEG  2020-01-01       No  Month-to-month               Yes   \n",
       "1  5575-GNVDE  2017-04-01       No        One year                No   \n",
       "2  3668-QPYBK  2019-10-01       No  Month-to-month               Yes   \n",
       "3  7795-CFOCW  2016-05-01       No        One year                No   \n",
       "4  9237-HQITU  2019-09-01       No  Month-to-month               Yes   \n",
       "\n",
       "              payment_method  monthly_charges total_charges  \n",
       "0           Electronic check            29.85         31.04  \n",
       "1               Mailed check            56.95       2071.84  \n",
       "2               Mailed check            53.85        226.17  \n",
       "3  Bank transfer (automatic)            42.30        1960.6  \n",
       "4           Electronic check            70.70         353.5  "
      ]
     },
     "execution_count": 10,
     "metadata": {},
     "output_type": "execute_result"
    }
   ],
   "source": [
    "df_contract.head()"
   ]
  },
  {
   "cell_type": "code",
   "execution_count": 11,
   "id": "c1add137-fcb4-4c32-835d-f2ba745d6f25",
   "metadata": {},
   "outputs": [
    {
     "data": {
      "text/html": [
       "<div>\n",
       "<style scoped>\n",
       "    .dataframe tbody tr th:only-of-type {\n",
       "        vertical-align: middle;\n",
       "    }\n",
       "\n",
       "    .dataframe tbody tr th {\n",
       "        vertical-align: top;\n",
       "    }\n",
       "\n",
       "    .dataframe thead th {\n",
       "        text-align: right;\n",
       "    }\n",
       "</style>\n",
       "<table border=\"1\" class=\"dataframe\">\n",
       "  <thead>\n",
       "    <tr style=\"text-align: right;\">\n",
       "      <th></th>\n",
       "      <th>customer_id</th>\n",
       "      <th>begin_date</th>\n",
       "      <th>end_date</th>\n",
       "      <th>type</th>\n",
       "      <th>paperless_billing</th>\n",
       "      <th>payment_method</th>\n",
       "      <th>monthly_charges</th>\n",
       "      <th>total_charges</th>\n",
       "    </tr>\n",
       "  </thead>\n",
       "  <tbody>\n",
       "    <tr>\n",
       "      <th>9</th>\n",
       "      <td>6388-TABGU</td>\n",
       "      <td>2014-12-01</td>\n",
       "      <td>2017-05-01</td>\n",
       "      <td>One year</td>\n",
       "      <td>No</td>\n",
       "      <td>Bank transfer (automatic)</td>\n",
       "      <td>56.15</td>\n",
       "      <td>1628.35</td>\n",
       "    </tr>\n",
       "    <tr>\n",
       "      <th>15</th>\n",
       "      <td>3655-SNQYZ</td>\n",
       "      <td>2014-05-01</td>\n",
       "      <td>2016-03-01</td>\n",
       "      <td>Two year</td>\n",
       "      <td>No</td>\n",
       "      <td>Credit card (automatic)</td>\n",
       "      <td>113.25</td>\n",
       "      <td>2491.5</td>\n",
       "    </tr>\n",
       "    <tr>\n",
       "      <th>25</th>\n",
       "      <td>6865-JZNKO</td>\n",
       "      <td>2017-08-01</td>\n",
       "      <td>2018-09-01</td>\n",
       "      <td>Month-to-month</td>\n",
       "      <td>Yes</td>\n",
       "      <td>Bank transfer (automatic)</td>\n",
       "      <td>55.30</td>\n",
       "      <td>726.09</td>\n",
       "    </tr>\n",
       "    <tr>\n",
       "      <th>30</th>\n",
       "      <td>3841-NFECX</td>\n",
       "      <td>2014-03-01</td>\n",
       "      <td>2018-11-01</td>\n",
       "      <td>Two year</td>\n",
       "      <td>Yes</td>\n",
       "      <td>Credit card (automatic)</td>\n",
       "      <td>96.35</td>\n",
       "      <td>5395.6</td>\n",
       "    </tr>\n",
       "    <tr>\n",
       "      <th>35</th>\n",
       "      <td>6234-RAAPL</td>\n",
       "      <td>2014-02-01</td>\n",
       "      <td>2018-12-01</td>\n",
       "      <td>Two year</td>\n",
       "      <td>No</td>\n",
       "      <td>Bank transfer (automatic)</td>\n",
       "      <td>99.90</td>\n",
       "      <td>5794.2</td>\n",
       "    </tr>\n",
       "  </tbody>\n",
       "</table>\n",
       "</div>"
      ],
      "text/plain": [
       "   customer_id  begin_date    end_date            type paperless_billing  \\\n",
       "9   6388-TABGU  2014-12-01  2017-05-01        One year                No   \n",
       "15  3655-SNQYZ  2014-05-01  2016-03-01        Two year                No   \n",
       "25  6865-JZNKO  2017-08-01  2018-09-01  Month-to-month               Yes   \n",
       "30  3841-NFECX  2014-03-01  2018-11-01        Two year               Yes   \n",
       "35  6234-RAAPL  2014-02-01  2018-12-01        Two year                No   \n",
       "\n",
       "               payment_method  monthly_charges total_charges  \n",
       "9   Bank transfer (automatic)            56.15       1628.35  \n",
       "15    Credit card (automatic)           113.25        2491.5  \n",
       "25  Bank transfer (automatic)            55.30        726.09  \n",
       "30    Credit card (automatic)            96.35        5395.6  \n",
       "35  Bank transfer (automatic)            99.90        5794.2  "
      ]
     },
     "execution_count": 11,
     "metadata": {},
     "output_type": "execute_result"
    }
   ],
   "source": [
    "df_contract.query('end_date != \"No\"').head()"
   ]
  },
  {
   "cell_type": "markdown",
   "id": "a762a6e2-5700-4d4a-859c-92ff84588658",
   "metadata": {},
   "source": [
    "Посмотрим какие значения встречаются в столбце 'BeginDate':"
   ]
  },
  {
   "cell_type": "code",
   "execution_count": 12,
   "id": "033186b6-efdc-4527-a02b-3c6c62b695f0",
   "metadata": {},
   "outputs": [
    {
     "data": {
      "text/plain": [
       "array(['2013-10-01', '2013-11-01', '2013-12-01', '2014-01-01',\n",
       "       '2014-02-01', '2014-03-01', '2014-04-01', '2014-05-01',\n",
       "       '2014-06-01', '2014-07-01', '2014-08-01', '2014-09-01',\n",
       "       '2014-10-01', '2014-11-01', '2014-12-01', '2015-01-01',\n",
       "       '2015-02-01', '2015-03-01', '2015-04-01', '2015-05-01',\n",
       "       '2015-06-01', '2015-07-01', '2015-08-01', '2015-09-01',\n",
       "       '2015-10-01', '2015-11-01', '2015-12-01', '2016-01-01',\n",
       "       '2016-02-01', '2016-03-01', '2016-04-01', '2016-05-01',\n",
       "       '2016-06-01', '2016-07-01', '2016-08-01', '2016-09-01',\n",
       "       '2016-10-01', '2016-11-01', '2016-12-01', '2017-01-01',\n",
       "       '2017-02-01', '2017-03-01', '2017-04-01', '2017-05-01',\n",
       "       '2017-06-01', '2017-07-01', '2017-08-01', '2017-09-01',\n",
       "       '2017-10-01', '2017-11-01', '2017-12-01', '2018-01-01',\n",
       "       '2018-02-01', '2018-03-01', '2018-04-01', '2018-05-01',\n",
       "       '2018-06-01', '2018-07-01', '2018-08-01', '2018-09-01',\n",
       "       '2018-10-01', '2018-11-01', '2018-12-01', '2019-01-01',\n",
       "       '2019-02-01', '2019-03-01', '2019-04-01', '2019-05-01',\n",
       "       '2019-06-01', '2019-07-01', '2019-08-01', '2019-09-01',\n",
       "       '2019-10-01', '2019-11-01', '2019-12-01', '2020-01-01',\n",
       "       '2020-02-01'], dtype=object)"
      ]
     },
     "execution_count": 12,
     "metadata": {},
     "output_type": "execute_result"
    }
   ],
   "source": [
    "df_contract['begin_date'].sort_values().unique()"
   ]
  },
  {
   "cell_type": "markdown",
   "id": "c2ac2fd5-438c-4b75-8f65-1de75a394897",
   "metadata": {},
   "source": [
    "Посмотрим какие значения встречаются в признаке 'end_date':"
   ]
  },
  {
   "cell_type": "code",
   "execution_count": 13,
   "id": "ca9bff26-03d9-4617-a462-b0a9ae0b3a4e",
   "metadata": {},
   "outputs": [
    {
     "data": {
      "text/plain": [
       "array(['No', '2017-05-01', '2016-03-01', '2018-09-01', '2018-11-01',\n",
       "       '2018-12-01', '2019-08-01', '2018-07-01', '2017-09-01',\n",
       "       '2015-09-01', '2016-07-01', '2016-06-01', '2018-03-01',\n",
       "       '2019-02-01', '2018-06-01', '2019-06-01', '2020-01-01',\n",
       "       '2019-11-01', '2016-09-01', '2015-06-01', '2016-12-01',\n",
       "       '2019-05-01', '2019-04-01', '2017-06-01', '2017-08-01',\n",
       "       '2018-04-01', '2018-08-01', '2018-02-01', '2019-07-01',\n",
       "       '2015-12-01', '2014-06-01', '2018-10-01', '2019-01-01',\n",
       "       '2017-07-01', '2017-12-01', '2018-05-01', '2015-11-01',\n",
       "       '2019-10-01', '2019-03-01', '2016-02-01', '2016-10-01',\n",
       "       '2018-01-01', '2017-11-01', '2015-10-01', '2019-12-01',\n",
       "       '2015-07-01', '2017-04-01', '2015-02-01', '2017-03-01',\n",
       "       '2016-05-01', '2016-11-01', '2015-08-01', '2019-09-01',\n",
       "       '2017-10-01', '2017-02-01', '2016-08-01', '2016-04-01',\n",
       "       '2015-05-01', '2014-09-01', '2014-10-01', '2017-01-01',\n",
       "       '2015-03-01', '2015-01-01', '2016-01-01', '2015-04-01',\n",
       "       '2014-12-01', '2014-11-01'], dtype=object)"
      ]
     },
     "execution_count": 13,
     "metadata": {},
     "output_type": "execute_result"
    }
   ],
   "source": [
    "df_contract['end_date'].unique()"
   ]
  },
  {
   "cell_type": "markdown",
   "id": "02dac714-4ee3-4eb6-9227-0419360f7dff",
   "metadata": {},
   "source": [
    "По сути значение признака указывает \"ушел\" клиент, или еще нет. Признак 'end_date' удалим, но сначала на его основе сформируем два признака:\n",
    "- 'former_client' - значения 1 - для \"ушедших\" и 0 для тех, кто \"еще с нами!\"\n",
    "- 'day_used' - дней пользования услугами от \"приход\", до \"ухода\". Для тех кто \"еще с нами\" кол-во дней будем считать до даты выгрузки данных"
   ]
  },
  {
   "cell_type": "code",
   "execution_count": 14,
   "id": "0699c075-76d2-444a-8167-7072435567c2",
   "metadata": {},
   "outputs": [],
   "source": [
    "df_contract['former_client'] = 1\n",
    "df_contract.loc[df_contract['end_date'] == 'No', 'former_client'] = 0\n",
    "\n",
    "\n",
    "def calc_days(enddate, begindate):\n",
    "    if enddate == 'No':\n",
    "        return (datetime.strptime(DATE_EXPORT, '%Y-%m-%d') - datetime.strptime(begindate, '%Y-%m-%d')).days\n",
    "    else:\n",
    "        return (datetime.strptime(enddate, '%Y-%m-%d') - datetime.strptime(begindate, '%Y-%m-%d')).days\n",
    "    \n",
    "df_contract['day_used'] = df_contract.apply(lambda df_contract: calc_days(df_contract['end_date'], df_contract['begin_date']), axis=1)"
   ]
  },
  {
   "cell_type": "markdown",
   "id": "0c99c80d-411b-430a-8097-8a1488380418",
   "metadata": {},
   "source": [
    "Перейдем к признаку 'totalcharges':"
   ]
  },
  {
   "cell_type": "code",
   "execution_count": 15,
   "id": "f88cf28a-92c9-4ac4-b091-0abf747c4572",
   "metadata": {},
   "outputs": [
    {
     "data": {
      "text/plain": [
       "[' ', ' ', ' ', ' ', ' ', ' ', ' ', ' ', ' ', ' ', ' ']"
      ]
     },
     "execution_count": 15,
     "metadata": {},
     "output_type": "execute_result"
    }
   ],
   "source": [
    "[itm[0] for itm in df_contract['total_charges'].str.findall(r'[^\\d\\.]') if len(itm)>0]"
   ]
  },
  {
   "cell_type": "markdown",
   "id": "e07d8c78-4eb2-4617-be25-4a44806c23af",
   "metadata": {},
   "source": [
    "Нашли несколько записей для который значение 'total_charges' не указано - по сути это пропуск значений. Посмотрим эти строки."
   ]
  },
  {
   "cell_type": "code",
   "execution_count": 16,
   "id": "c87947c2-8ad8-426c-a123-c0368033e587",
   "metadata": {},
   "outputs": [
    {
     "data": {
      "text/html": [
       "<div>\n",
       "<style scoped>\n",
       "    .dataframe tbody tr th:only-of-type {\n",
       "        vertical-align: middle;\n",
       "    }\n",
       "\n",
       "    .dataframe tbody tr th {\n",
       "        vertical-align: top;\n",
       "    }\n",
       "\n",
       "    .dataframe thead th {\n",
       "        text-align: right;\n",
       "    }\n",
       "</style>\n",
       "<table border=\"1\" class=\"dataframe\">\n",
       "  <thead>\n",
       "    <tr style=\"text-align: right;\">\n",
       "      <th></th>\n",
       "      <th>customer_id</th>\n",
       "      <th>begin_date</th>\n",
       "      <th>end_date</th>\n",
       "      <th>type</th>\n",
       "      <th>paperless_billing</th>\n",
       "      <th>payment_method</th>\n",
       "      <th>monthly_charges</th>\n",
       "      <th>total_charges</th>\n",
       "      <th>former_client</th>\n",
       "      <th>day_used</th>\n",
       "    </tr>\n",
       "  </thead>\n",
       "  <tbody>\n",
       "    <tr>\n",
       "      <th>488</th>\n",
       "      <td>4472-LVYGI</td>\n",
       "      <td>2020-02-01</td>\n",
       "      <td>No</td>\n",
       "      <td>Two year</td>\n",
       "      <td>Yes</td>\n",
       "      <td>Bank transfer (automatic)</td>\n",
       "      <td>52.55</td>\n",
       "      <td></td>\n",
       "      <td>0</td>\n",
       "      <td>0</td>\n",
       "    </tr>\n",
       "    <tr>\n",
       "      <th>753</th>\n",
       "      <td>3115-CZMZD</td>\n",
       "      <td>2020-02-01</td>\n",
       "      <td>No</td>\n",
       "      <td>Two year</td>\n",
       "      <td>No</td>\n",
       "      <td>Mailed check</td>\n",
       "      <td>20.25</td>\n",
       "      <td></td>\n",
       "      <td>0</td>\n",
       "      <td>0</td>\n",
       "    </tr>\n",
       "    <tr>\n",
       "      <th>936</th>\n",
       "      <td>5709-LVOEQ</td>\n",
       "      <td>2020-02-01</td>\n",
       "      <td>No</td>\n",
       "      <td>Two year</td>\n",
       "      <td>No</td>\n",
       "      <td>Mailed check</td>\n",
       "      <td>80.85</td>\n",
       "      <td></td>\n",
       "      <td>0</td>\n",
       "      <td>0</td>\n",
       "    </tr>\n",
       "    <tr>\n",
       "      <th>1082</th>\n",
       "      <td>4367-NUYAO</td>\n",
       "      <td>2020-02-01</td>\n",
       "      <td>No</td>\n",
       "      <td>Two year</td>\n",
       "      <td>No</td>\n",
       "      <td>Mailed check</td>\n",
       "      <td>25.75</td>\n",
       "      <td></td>\n",
       "      <td>0</td>\n",
       "      <td>0</td>\n",
       "    </tr>\n",
       "    <tr>\n",
       "      <th>1340</th>\n",
       "      <td>1371-DWPAZ</td>\n",
       "      <td>2020-02-01</td>\n",
       "      <td>No</td>\n",
       "      <td>Two year</td>\n",
       "      <td>No</td>\n",
       "      <td>Credit card (automatic)</td>\n",
       "      <td>56.05</td>\n",
       "      <td></td>\n",
       "      <td>0</td>\n",
       "      <td>0</td>\n",
       "    </tr>\n",
       "    <tr>\n",
       "      <th>3331</th>\n",
       "      <td>7644-OMVMY</td>\n",
       "      <td>2020-02-01</td>\n",
       "      <td>No</td>\n",
       "      <td>Two year</td>\n",
       "      <td>No</td>\n",
       "      <td>Mailed check</td>\n",
       "      <td>19.85</td>\n",
       "      <td></td>\n",
       "      <td>0</td>\n",
       "      <td>0</td>\n",
       "    </tr>\n",
       "    <tr>\n",
       "      <th>3826</th>\n",
       "      <td>3213-VVOLG</td>\n",
       "      <td>2020-02-01</td>\n",
       "      <td>No</td>\n",
       "      <td>Two year</td>\n",
       "      <td>No</td>\n",
       "      <td>Mailed check</td>\n",
       "      <td>25.35</td>\n",
       "      <td></td>\n",
       "      <td>0</td>\n",
       "      <td>0</td>\n",
       "    </tr>\n",
       "    <tr>\n",
       "      <th>4380</th>\n",
       "      <td>2520-SGTTA</td>\n",
       "      <td>2020-02-01</td>\n",
       "      <td>No</td>\n",
       "      <td>Two year</td>\n",
       "      <td>No</td>\n",
       "      <td>Mailed check</td>\n",
       "      <td>20.00</td>\n",
       "      <td></td>\n",
       "      <td>0</td>\n",
       "      <td>0</td>\n",
       "    </tr>\n",
       "    <tr>\n",
       "      <th>5218</th>\n",
       "      <td>2923-ARZLG</td>\n",
       "      <td>2020-02-01</td>\n",
       "      <td>No</td>\n",
       "      <td>One year</td>\n",
       "      <td>Yes</td>\n",
       "      <td>Mailed check</td>\n",
       "      <td>19.70</td>\n",
       "      <td></td>\n",
       "      <td>0</td>\n",
       "      <td>0</td>\n",
       "    </tr>\n",
       "    <tr>\n",
       "      <th>6670</th>\n",
       "      <td>4075-WKNIU</td>\n",
       "      <td>2020-02-01</td>\n",
       "      <td>No</td>\n",
       "      <td>Two year</td>\n",
       "      <td>No</td>\n",
       "      <td>Mailed check</td>\n",
       "      <td>73.35</td>\n",
       "      <td></td>\n",
       "      <td>0</td>\n",
       "      <td>0</td>\n",
       "    </tr>\n",
       "    <tr>\n",
       "      <th>6754</th>\n",
       "      <td>2775-SEFEE</td>\n",
       "      <td>2020-02-01</td>\n",
       "      <td>No</td>\n",
       "      <td>Two year</td>\n",
       "      <td>Yes</td>\n",
       "      <td>Bank transfer (automatic)</td>\n",
       "      <td>61.90</td>\n",
       "      <td></td>\n",
       "      <td>0</td>\n",
       "      <td>0</td>\n",
       "    </tr>\n",
       "  </tbody>\n",
       "</table>\n",
       "</div>"
      ],
      "text/plain": [
       "     customer_id  begin_date end_date      type paperless_billing  \\\n",
       "488   4472-LVYGI  2020-02-01       No  Two year               Yes   \n",
       "753   3115-CZMZD  2020-02-01       No  Two year                No   \n",
       "936   5709-LVOEQ  2020-02-01       No  Two year                No   \n",
       "1082  4367-NUYAO  2020-02-01       No  Two year                No   \n",
       "1340  1371-DWPAZ  2020-02-01       No  Two year                No   \n",
       "3331  7644-OMVMY  2020-02-01       No  Two year                No   \n",
       "3826  3213-VVOLG  2020-02-01       No  Two year                No   \n",
       "4380  2520-SGTTA  2020-02-01       No  Two year                No   \n",
       "5218  2923-ARZLG  2020-02-01       No  One year               Yes   \n",
       "6670  4075-WKNIU  2020-02-01       No  Two year                No   \n",
       "6754  2775-SEFEE  2020-02-01       No  Two year               Yes   \n",
       "\n",
       "                 payment_method  monthly_charges total_charges  former_client  \\\n",
       "488   Bank transfer (automatic)            52.55                            0   \n",
       "753                Mailed check            20.25                            0   \n",
       "936                Mailed check            80.85                            0   \n",
       "1082               Mailed check            25.75                            0   \n",
       "1340    Credit card (automatic)            56.05                            0   \n",
       "3331               Mailed check            19.85                            0   \n",
       "3826               Mailed check            25.35                            0   \n",
       "4380               Mailed check            20.00                            0   \n",
       "5218               Mailed check            19.70                            0   \n",
       "6670               Mailed check            73.35                            0   \n",
       "6754  Bank transfer (automatic)            61.90                            0   \n",
       "\n",
       "      day_used  \n",
       "488          0  \n",
       "753          0  \n",
       "936          0  \n",
       "1082         0  \n",
       "1340         0  \n",
       "3331         0  \n",
       "3826         0  \n",
       "4380         0  \n",
       "5218         0  \n",
       "6670         0  \n",
       "6754         0  "
      ]
     },
     "execution_count": 16,
     "metadata": {},
     "output_type": "execute_result"
    }
   ],
   "source": [
    "df_contract.query('total_charges == \" \"')"
   ]
  },
  {
   "cell_type": "markdown",
   "id": "8dcd97cc-adf3-4f42-a681-702d28c6ad13",
   "metadata": {},
   "source": [
    "Все клиенты в выборке заключили договора '2020-02-01'. Посмотрим все записи для '2020-02-01',  а не только с пропусками 'total_charges' :"
   ]
  },
  {
   "cell_type": "code",
   "execution_count": 17,
   "id": "3b722c14-4b11-4b49-9fc2-06fe72a779a7",
   "metadata": {},
   "outputs": [
    {
     "data": {
      "text/html": [
       "<div>\n",
       "<style scoped>\n",
       "    .dataframe tbody tr th:only-of-type {\n",
       "        vertical-align: middle;\n",
       "    }\n",
       "\n",
       "    .dataframe tbody tr th {\n",
       "        vertical-align: top;\n",
       "    }\n",
       "\n",
       "    .dataframe thead th {\n",
       "        text-align: right;\n",
       "    }\n",
       "</style>\n",
       "<table border=\"1\" class=\"dataframe\">\n",
       "  <thead>\n",
       "    <tr style=\"text-align: right;\">\n",
       "      <th></th>\n",
       "      <th>customer_id</th>\n",
       "      <th>begin_date</th>\n",
       "      <th>end_date</th>\n",
       "      <th>type</th>\n",
       "      <th>paperless_billing</th>\n",
       "      <th>payment_method</th>\n",
       "      <th>monthly_charges</th>\n",
       "      <th>total_charges</th>\n",
       "      <th>former_client</th>\n",
       "      <th>day_used</th>\n",
       "    </tr>\n",
       "  </thead>\n",
       "  <tbody>\n",
       "    <tr>\n",
       "      <th>488</th>\n",
       "      <td>4472-LVYGI</td>\n",
       "      <td>2020-02-01</td>\n",
       "      <td>No</td>\n",
       "      <td>Two year</td>\n",
       "      <td>Yes</td>\n",
       "      <td>Bank transfer (automatic)</td>\n",
       "      <td>52.55</td>\n",
       "      <td></td>\n",
       "      <td>0</td>\n",
       "      <td>0</td>\n",
       "    </tr>\n",
       "    <tr>\n",
       "      <th>753</th>\n",
       "      <td>3115-CZMZD</td>\n",
       "      <td>2020-02-01</td>\n",
       "      <td>No</td>\n",
       "      <td>Two year</td>\n",
       "      <td>No</td>\n",
       "      <td>Mailed check</td>\n",
       "      <td>20.25</td>\n",
       "      <td></td>\n",
       "      <td>0</td>\n",
       "      <td>0</td>\n",
       "    </tr>\n",
       "    <tr>\n",
       "      <th>936</th>\n",
       "      <td>5709-LVOEQ</td>\n",
       "      <td>2020-02-01</td>\n",
       "      <td>No</td>\n",
       "      <td>Two year</td>\n",
       "      <td>No</td>\n",
       "      <td>Mailed check</td>\n",
       "      <td>80.85</td>\n",
       "      <td></td>\n",
       "      <td>0</td>\n",
       "      <td>0</td>\n",
       "    </tr>\n",
       "    <tr>\n",
       "      <th>1082</th>\n",
       "      <td>4367-NUYAO</td>\n",
       "      <td>2020-02-01</td>\n",
       "      <td>No</td>\n",
       "      <td>Two year</td>\n",
       "      <td>No</td>\n",
       "      <td>Mailed check</td>\n",
       "      <td>25.75</td>\n",
       "      <td></td>\n",
       "      <td>0</td>\n",
       "      <td>0</td>\n",
       "    </tr>\n",
       "    <tr>\n",
       "      <th>1340</th>\n",
       "      <td>1371-DWPAZ</td>\n",
       "      <td>2020-02-01</td>\n",
       "      <td>No</td>\n",
       "      <td>Two year</td>\n",
       "      <td>No</td>\n",
       "      <td>Credit card (automatic)</td>\n",
       "      <td>56.05</td>\n",
       "      <td></td>\n",
       "      <td>0</td>\n",
       "      <td>0</td>\n",
       "    </tr>\n",
       "    <tr>\n",
       "      <th>3331</th>\n",
       "      <td>7644-OMVMY</td>\n",
       "      <td>2020-02-01</td>\n",
       "      <td>No</td>\n",
       "      <td>Two year</td>\n",
       "      <td>No</td>\n",
       "      <td>Mailed check</td>\n",
       "      <td>19.85</td>\n",
       "      <td></td>\n",
       "      <td>0</td>\n",
       "      <td>0</td>\n",
       "    </tr>\n",
       "    <tr>\n",
       "      <th>3826</th>\n",
       "      <td>3213-VVOLG</td>\n",
       "      <td>2020-02-01</td>\n",
       "      <td>No</td>\n",
       "      <td>Two year</td>\n",
       "      <td>No</td>\n",
       "      <td>Mailed check</td>\n",
       "      <td>25.35</td>\n",
       "      <td></td>\n",
       "      <td>0</td>\n",
       "      <td>0</td>\n",
       "    </tr>\n",
       "    <tr>\n",
       "      <th>4380</th>\n",
       "      <td>2520-SGTTA</td>\n",
       "      <td>2020-02-01</td>\n",
       "      <td>No</td>\n",
       "      <td>Two year</td>\n",
       "      <td>No</td>\n",
       "      <td>Mailed check</td>\n",
       "      <td>20.00</td>\n",
       "      <td></td>\n",
       "      <td>0</td>\n",
       "      <td>0</td>\n",
       "    </tr>\n",
       "    <tr>\n",
       "      <th>5218</th>\n",
       "      <td>2923-ARZLG</td>\n",
       "      <td>2020-02-01</td>\n",
       "      <td>No</td>\n",
       "      <td>One year</td>\n",
       "      <td>Yes</td>\n",
       "      <td>Mailed check</td>\n",
       "      <td>19.70</td>\n",
       "      <td></td>\n",
       "      <td>0</td>\n",
       "      <td>0</td>\n",
       "    </tr>\n",
       "    <tr>\n",
       "      <th>6670</th>\n",
       "      <td>4075-WKNIU</td>\n",
       "      <td>2020-02-01</td>\n",
       "      <td>No</td>\n",
       "      <td>Two year</td>\n",
       "      <td>No</td>\n",
       "      <td>Mailed check</td>\n",
       "      <td>73.35</td>\n",
       "      <td></td>\n",
       "      <td>0</td>\n",
       "      <td>0</td>\n",
       "    </tr>\n",
       "    <tr>\n",
       "      <th>6754</th>\n",
       "      <td>2775-SEFEE</td>\n",
       "      <td>2020-02-01</td>\n",
       "      <td>No</td>\n",
       "      <td>Two year</td>\n",
       "      <td>Yes</td>\n",
       "      <td>Bank transfer (automatic)</td>\n",
       "      <td>61.90</td>\n",
       "      <td></td>\n",
       "      <td>0</td>\n",
       "      <td>0</td>\n",
       "    </tr>\n",
       "  </tbody>\n",
       "</table>\n",
       "</div>"
      ],
      "text/plain": [
       "     customer_id  begin_date end_date      type paperless_billing  \\\n",
       "488   4472-LVYGI  2020-02-01       No  Two year               Yes   \n",
       "753   3115-CZMZD  2020-02-01       No  Two year                No   \n",
       "936   5709-LVOEQ  2020-02-01       No  Two year                No   \n",
       "1082  4367-NUYAO  2020-02-01       No  Two year                No   \n",
       "1340  1371-DWPAZ  2020-02-01       No  Two year                No   \n",
       "3331  7644-OMVMY  2020-02-01       No  Two year                No   \n",
       "3826  3213-VVOLG  2020-02-01       No  Two year                No   \n",
       "4380  2520-SGTTA  2020-02-01       No  Two year                No   \n",
       "5218  2923-ARZLG  2020-02-01       No  One year               Yes   \n",
       "6670  4075-WKNIU  2020-02-01       No  Two year                No   \n",
       "6754  2775-SEFEE  2020-02-01       No  Two year               Yes   \n",
       "\n",
       "                 payment_method  monthly_charges total_charges  former_client  \\\n",
       "488   Bank transfer (automatic)            52.55                            0   \n",
       "753                Mailed check            20.25                            0   \n",
       "936                Mailed check            80.85                            0   \n",
       "1082               Mailed check            25.75                            0   \n",
       "1340    Credit card (automatic)            56.05                            0   \n",
       "3331               Mailed check            19.85                            0   \n",
       "3826               Mailed check            25.35                            0   \n",
       "4380               Mailed check            20.00                            0   \n",
       "5218               Mailed check            19.70                            0   \n",
       "6670               Mailed check            73.35                            0   \n",
       "6754  Bank transfer (automatic)            61.90                            0   \n",
       "\n",
       "      day_used  \n",
       "488          0  \n",
       "753          0  \n",
       "936          0  \n",
       "1082         0  \n",
       "1340         0  \n",
       "3331         0  \n",
       "3826         0  \n",
       "4380         0  \n",
       "5218         0  \n",
       "6670         0  \n",
       "6754         0  "
      ]
     },
     "execution_count": 17,
     "metadata": {},
     "output_type": "execute_result"
    }
   ],
   "source": [
    "df_contract[df_contract['begin_date'] == '2020-02-01'] "
   ]
  },
  {
   "cell_type": "code",
   "execution_count": 18,
   "id": "7376ecba-86c8-4c70-897c-b4df29826140",
   "metadata": {},
   "outputs": [
    {
     "data": {
      "text/html": [
       "<div>\n",
       "<style scoped>\n",
       "    .dataframe tbody tr th:only-of-type {\n",
       "        vertical-align: middle;\n",
       "    }\n",
       "\n",
       "    .dataframe tbody tr th {\n",
       "        vertical-align: top;\n",
       "    }\n",
       "\n",
       "    .dataframe thead th {\n",
       "        text-align: right;\n",
       "    }\n",
       "</style>\n",
       "<table border=\"1\" class=\"dataframe\">\n",
       "  <thead>\n",
       "    <tr style=\"text-align: right;\">\n",
       "      <th></th>\n",
       "      <th>customer_id</th>\n",
       "      <th>begin_date</th>\n",
       "      <th>end_date</th>\n",
       "      <th>type</th>\n",
       "      <th>paperless_billing</th>\n",
       "      <th>payment_method</th>\n",
       "      <th>monthly_charges</th>\n",
       "      <th>total_charges</th>\n",
       "      <th>former_client</th>\n",
       "      <th>day_used</th>\n",
       "    </tr>\n",
       "  </thead>\n",
       "  <tbody>\n",
       "    <tr>\n",
       "      <th>0</th>\n",
       "      <td>7590-VHVEG</td>\n",
       "      <td>2020-01-01</td>\n",
       "      <td>No</td>\n",
       "      <td>Month-to-month</td>\n",
       "      <td>Yes</td>\n",
       "      <td>Electronic check</td>\n",
       "      <td>29.85</td>\n",
       "      <td>31.04</td>\n",
       "      <td>0</td>\n",
       "      <td>31</td>\n",
       "    </tr>\n",
       "    <tr>\n",
       "      <th>33</th>\n",
       "      <td>7310-EGVHZ</td>\n",
       "      <td>2020-01-01</td>\n",
       "      <td>No</td>\n",
       "      <td>Month-to-month</td>\n",
       "      <td>No</td>\n",
       "      <td>Bank transfer (automatic)</td>\n",
       "      <td>20.20</td>\n",
       "      <td>22.22</td>\n",
       "      <td>0</td>\n",
       "      <td>31</td>\n",
       "    </tr>\n",
       "    <tr>\n",
       "      <th>34</th>\n",
       "      <td>3413-BMNZE</td>\n",
       "      <td>2020-01-01</td>\n",
       "      <td>No</td>\n",
       "      <td>Month-to-month</td>\n",
       "      <td>No</td>\n",
       "      <td>Bank transfer (automatic)</td>\n",
       "      <td>45.25</td>\n",
       "      <td>45.25</td>\n",
       "      <td>0</td>\n",
       "      <td>31</td>\n",
       "    </tr>\n",
       "    <tr>\n",
       "      <th>70</th>\n",
       "      <td>2273-QCKXA</td>\n",
       "      <td>2020-01-01</td>\n",
       "      <td>No</td>\n",
       "      <td>Month-to-month</td>\n",
       "      <td>No</td>\n",
       "      <td>Mailed check</td>\n",
       "      <td>49.05</td>\n",
       "      <td>52.48</td>\n",
       "      <td>0</td>\n",
       "      <td>31</td>\n",
       "    </tr>\n",
       "    <tr>\n",
       "      <th>91</th>\n",
       "      <td>2424-WVHPL</td>\n",
       "      <td>2020-01-01</td>\n",
       "      <td>No</td>\n",
       "      <td>Month-to-month</td>\n",
       "      <td>No</td>\n",
       "      <td>Electronic check</td>\n",
       "      <td>74.70</td>\n",
       "      <td>79.93</td>\n",
       "      <td>0</td>\n",
       "      <td>31</td>\n",
       "    </tr>\n",
       "    <tr>\n",
       "      <th>...</th>\n",
       "      <td>...</td>\n",
       "      <td>...</td>\n",
       "      <td>...</td>\n",
       "      <td>...</td>\n",
       "      <td>...</td>\n",
       "      <td>...</td>\n",
       "      <td>...</td>\n",
       "      <td>...</td>\n",
       "      <td>...</td>\n",
       "      <td>...</td>\n",
       "    </tr>\n",
       "    <tr>\n",
       "      <th>6840</th>\n",
       "      <td>1724-IQWNM</td>\n",
       "      <td>2020-01-01</td>\n",
       "      <td>No</td>\n",
       "      <td>Month-to-month</td>\n",
       "      <td>Yes</td>\n",
       "      <td>Mailed check</td>\n",
       "      <td>19.30</td>\n",
       "      <td>20.07</td>\n",
       "      <td>0</td>\n",
       "      <td>31</td>\n",
       "    </tr>\n",
       "    <tr>\n",
       "      <th>6845</th>\n",
       "      <td>6127-IYJOZ</td>\n",
       "      <td>2020-01-01</td>\n",
       "      <td>No</td>\n",
       "      <td>Month-to-month</td>\n",
       "      <td>Yes</td>\n",
       "      <td>Mailed check</td>\n",
       "      <td>45.85</td>\n",
       "      <td>45.85</td>\n",
       "      <td>0</td>\n",
       "      <td>31</td>\n",
       "    </tr>\n",
       "    <tr>\n",
       "      <th>6909</th>\n",
       "      <td>9108-EJFJP</td>\n",
       "      <td>2020-01-01</td>\n",
       "      <td>No</td>\n",
       "      <td>Month-to-month</td>\n",
       "      <td>Yes</td>\n",
       "      <td>Mailed check</td>\n",
       "      <td>53.55</td>\n",
       "      <td>55.69</td>\n",
       "      <td>0</td>\n",
       "      <td>31</td>\n",
       "    </tr>\n",
       "    <tr>\n",
       "      <th>6979</th>\n",
       "      <td>5351-QESIO</td>\n",
       "      <td>2020-01-01</td>\n",
       "      <td>No</td>\n",
       "      <td>Month-to-month</td>\n",
       "      <td>No</td>\n",
       "      <td>Mailed check</td>\n",
       "      <td>24.20</td>\n",
       "      <td>24.2</td>\n",
       "      <td>0</td>\n",
       "      <td>31</td>\n",
       "    </tr>\n",
       "    <tr>\n",
       "      <th>7016</th>\n",
       "      <td>1471-GIQKQ</td>\n",
       "      <td>2020-01-01</td>\n",
       "      <td>No</td>\n",
       "      <td>Month-to-month</td>\n",
       "      <td>No</td>\n",
       "      <td>Electronic check</td>\n",
       "      <td>49.95</td>\n",
       "      <td>53.95</td>\n",
       "      <td>0</td>\n",
       "      <td>31</td>\n",
       "    </tr>\n",
       "  </tbody>\n",
       "</table>\n",
       "<p>233 rows × 10 columns</p>\n",
       "</div>"
      ],
      "text/plain": [
       "     customer_id  begin_date end_date            type paperless_billing  \\\n",
       "0     7590-VHVEG  2020-01-01       No  Month-to-month               Yes   \n",
       "33    7310-EGVHZ  2020-01-01       No  Month-to-month                No   \n",
       "34    3413-BMNZE  2020-01-01       No  Month-to-month                No   \n",
       "70    2273-QCKXA  2020-01-01       No  Month-to-month                No   \n",
       "91    2424-WVHPL  2020-01-01       No  Month-to-month                No   \n",
       "...          ...         ...      ...             ...               ...   \n",
       "6840  1724-IQWNM  2020-01-01       No  Month-to-month               Yes   \n",
       "6845  6127-IYJOZ  2020-01-01       No  Month-to-month               Yes   \n",
       "6909  9108-EJFJP  2020-01-01       No  Month-to-month               Yes   \n",
       "6979  5351-QESIO  2020-01-01       No  Month-to-month                No   \n",
       "7016  1471-GIQKQ  2020-01-01       No  Month-to-month                No   \n",
       "\n",
       "                 payment_method  monthly_charges total_charges  former_client  \\\n",
       "0              Electronic check            29.85         31.04              0   \n",
       "33    Bank transfer (automatic)            20.20         22.22              0   \n",
       "34    Bank transfer (automatic)            45.25         45.25              0   \n",
       "70                 Mailed check            49.05         52.48              0   \n",
       "91             Electronic check            74.70         79.93              0   \n",
       "...                         ...              ...           ...            ...   \n",
       "6840               Mailed check            19.30         20.07              0   \n",
       "6845               Mailed check            45.85         45.85              0   \n",
       "6909               Mailed check            53.55         55.69              0   \n",
       "6979               Mailed check            24.20          24.2              0   \n",
       "7016           Electronic check            49.95         53.95              0   \n",
       "\n",
       "      day_used  \n",
       "0           31  \n",
       "33          31  \n",
       "34          31  \n",
       "70          31  \n",
       "91          31  \n",
       "...        ...  \n",
       "6840        31  \n",
       "6845        31  \n",
       "6909        31  \n",
       "6979        31  \n",
       "7016        31  \n",
       "\n",
       "[233 rows x 10 columns]"
      ]
     },
     "execution_count": 18,
     "metadata": {},
     "output_type": "execute_result"
    }
   ],
   "source": [
    "df_contract[df_contract['begin_date'] == '2020-01-01']"
   ]
  },
  {
   "cell_type": "markdown",
   "id": "7e8b3491-50ac-4ec9-a718-885b7d278588",
   "metadata": {},
   "source": [
    "На основании увиденного делаем вывод: 'total_charges' >= 'monthly_charges'. \n",
    "\n",
    "Сделаем новое предположение: 'monthly_charges' - это величина фиксированного ежемесячного платежа, а знак \"больше\"  из-за,  скорее всего, доп. услуг, которые увеличивают величину  'total_charges' . Когда \"сольем\" датасеты в один, тогда проверим наше предположение и заполним пустые значения в  'total_charges' или удалим, потому что это признак может коррелировать, по сути, с общем кол-вом разных услуг.\n",
    "\n",
    "Теперь постоим графики:"
   ]
  },
  {
   "cell_type": "code",
   "execution_count": 19,
   "id": "414c7e94-700a-4a10-ac2d-8e3ffafeafb1",
   "metadata": {},
   "outputs": [
    {
     "data": {
      "image/png": "[encoded data removed]",
      "text/plain": [
       "<Figure size 432x288 with 1 Axes>"
      ]
     },
     "metadata": {
      "needs_background": "light"
     },
     "output_type": "display_data"
    }
   ],
   "source": [
    "df_contract['monthly_charges'].hist();\n",
    "plt.title('Гистограмма клиентов по признкау \"monthly_charges\"');\n",
    "plt.ylabel('Кол-во клиентов');\n",
    "plt.xlabel('monthlycharges');"
   ]
  },
  {
   "cell_type": "markdown",
   "id": "d877c0fc-1b25-4f08-a81d-47e5ffa46de3",
   "metadata": {},
   "source": [
    "~25% клиентов платят от 20 до 30 денег."
   ]
  },
  {
   "cell_type": "code",
   "execution_count": 20,
   "id": "fcd5c816-4ec6-4967-bcac-2ed605479fb5",
   "metadata": {},
   "outputs": [
    {
     "data": {
      "image/png": "[encoded data removed]",
      "text/plain": [
       "<Figure size 1296x432 with 1 Axes>"
      ]
     },
     "metadata": {
      "needs_background": "light"
     },
     "output_type": "display_data"
    }
   ],
   "source": [
    "df_temp = df_contract[['begin_date', 'customer_id']].copy()\n",
    "\n",
    "df_temp.groupby('begin_date')['customer_id'].count().plot(figsize=(18, 6), kind='bar');\n",
    "plt.xticks(rotation=90);\n",
    "plt.ylabel('Кол-во клиентов');\n",
    "plt.title('Суммарный приход новых клиентов по датам');\n",
    "plt.grid(axis='y')\n",
    "plt.show()"
   ]
  },
  {
   "cell_type": "markdown",
   "id": "96092ba3-0398-48ba-b644-cb0ff9ee3f34",
   "metadata": {},
   "source": [
    "Посмотрим сколько клиентов осталось, а сколько ушло:"
   ]
  },
  {
   "cell_type": "code",
   "execution_count": 21,
   "id": "8e2890d0-0477-4957-bffc-5985edeb5892",
   "metadata": {},
   "outputs": [
    {
     "data": {
      "image/png": "[encoded data removed]",
      "text/plain": [
       "<Figure size 720x288 with 1 Axes>"
      ]
     },
     "metadata": {
      "needs_background": "light"
     },
     "output_type": "display_data"
    }
   ],
   "source": [
    "df_contract['former_client'].value_counts(normalize=True).plot(figsize=(10, 4), kind='bar');\n",
    "plt.grid(axis='y')\n",
    "plt.ylabel('Доля клиентов от общего -кол ва')\n",
    "plt.title(\"Доля клиентов от общего кол-ва по типам:\\n0 - Еще с нами!, 1 - Ушел\")\n",
    "plt.xlabel('Тип клиента')\n",
    "plt.show()"
   ]
  },
  {
   "cell_type": "markdown",
   "id": "5811864a-9db9-4f3a-b592-5f2e8fc6ee42",
   "metadata": {},
   "source": [
    "Ушло 16%. Много или мало? Неизвестно, должны оценивать эксперты по рынку телеком. услуг. Мы же оценим кол-во уходов по датам суммарно:"
   ]
  },
  {
   "cell_type": "code",
   "execution_count": 22,
   "id": "98b192ba-a157-4fe1-93ab-e6ad90b5bfb5",
   "metadata": {},
   "outputs": [
    {
     "data": {
      "text/plain": [
       "array(['2014-06-01', '2014-09-01', '2014-10-01', '2014-11-01',\n",
       "       '2014-12-01', '2015-01-01', '2015-02-01', '2015-03-01',\n",
       "       '2015-04-01', '2015-05-01', '2015-06-01', '2015-07-01',\n",
       "       '2015-08-01', '2015-09-01', '2015-10-01', '2015-11-01',\n",
       "       '2015-12-01', '2016-01-01', '2016-02-01', '2016-03-01',\n",
       "       '2016-04-01', '2016-05-01', '2016-06-01', '2016-07-01',\n",
       "       '2016-08-01', '2016-09-01', '2016-10-01', '2016-11-01',\n",
       "       '2016-12-01', '2017-01-01', '2017-02-01', '2017-03-01',\n",
       "       '2017-04-01', '2017-05-01', '2017-06-01', '2017-07-01',\n",
       "       '2017-08-01', '2017-09-01', '2017-10-01', '2017-11-01',\n",
       "       '2017-12-01', '2018-01-01', '2018-02-01', '2018-03-01',\n",
       "       '2018-04-01', '2018-05-01', '2018-06-01', '2018-07-01',\n",
       "       '2018-08-01', '2018-09-01', '2018-10-01', '2018-11-01',\n",
       "       '2018-12-01', '2019-01-01', '2019-02-01', '2019-03-01',\n",
       "       '2019-04-01', '2019-05-01', '2019-06-01', '2019-07-01',\n",
       "       '2019-08-01', '2019-09-01', '2019-10-01', '2019-11-01',\n",
       "       '2019-12-01', '2020-01-01'], dtype=object)"
      ]
     },
     "execution_count": 22,
     "metadata": {},
     "output_type": "execute_result"
    }
   ],
   "source": [
    "df_contract.query('end_date != \"No\"')['end_date'].sort_values().unique()"
   ]
  },
  {
   "cell_type": "code",
   "execution_count": 23,
   "id": "0b2f645b-c3b7-4747-bd1e-0145dcbccffe",
   "metadata": {},
   "outputs": [
    {
     "data": {
      "image/png": "[encoded data removed]",
      "text/plain": [
       "<Figure size 1296x432 with 1 Axes>"
      ]
     },
     "metadata": {
      "needs_background": "light"
     },
     "output_type": "display_data"
    }
   ],
   "source": [
    "df_contract.query('end_date != \"No\"').groupby('end_date')['customer_id'].count().plot(figsize=(18, 6), kind='bar');\n",
    "plt.xticks(rotation=90);\n",
    "plt.ylabel('Кол-во клиентов');\n",
    "plt.title('Суммарный уход клиентов по датам');\n",
    "plt.grid(axis='y')\n",
    "plt.show()"
   ]
  },
  {
   "cell_type": "markdown",
   "id": "f5fa24ba-bff1-4225-9f02-7c8f5f7b5820",
   "metadata": {},
   "source": [
    "По графику становится понятно, почему компания вдруг озаботилась оттоком клиентов. Тренд \"на лицо\"!\n",
    "\n",
    "Посмотрим сколько дней ушедшие клиенты, были клиентами:"
   ]
  },
  {
   "cell_type": "code",
   "execution_count": 24,
   "id": "8acd1d8b-7078-4324-b8e3-a5575c51d434",
   "metadata": {},
   "outputs": [
    {
     "name": "stdout",
     "output_type": "stream",
     "text": [
      "28\n",
      "2314\n"
     ]
    }
   ],
   "source": [
    "print(df_contract.query('day_used > 0')['day_used'].min())\n",
    "print(df_contract['day_used'].max())"
   ]
  },
  {
   "cell_type": "code",
   "execution_count": 25,
   "id": "d3302e65-b211-4853-aa29-4c0d1727c88c",
   "metadata": {},
   "outputs": [
    {
     "data": {
      "image/png": "[encoded data removed]",
      "text/plain": [
       "<Figure size 720x288 with 1 Axes>"
      ]
     },
     "metadata": {
      "needs_background": "light"
     },
     "output_type": "display_data"
    }
   ],
   "source": [
    "# \"раскидаем\" клиентов по карзинам с шаго 100 дней\n",
    "pd.cut(df_contract.query('end_date != \"No\"')['day_used'], bins=[x for x in range (0, 2300, 100)]).value_counts(sort=False).plot.bar(rot=90, figsize=(10,4))\n",
    "plt.xticks(rotation=90);\n",
    "plt.ylabel('Кол-во клиентов');\n",
    "plt.title('Ушедшие клиенты. Распределение по кол-ву дней использования услуг компании');\n",
    "plt.xlabel('Диапазоны дней использования')\n",
    "plt.grid(axis='y')\n",
    "plt.show()"
   ]
  },
  {
   "cell_type": "markdown",
   "id": "3504234f-b371-4c74-b01c-6bc7359b7e40",
   "metadata": {},
   "source": [
    "Почти \"нормальное распределение\"!\n",
    "\n",
    "Посмотрим оставшиеся признаки: 'type', paper_lessbilling', 'payment_method'"
   ]
  },
  {
   "cell_type": "code",
   "execution_count": 26,
   "id": "4a78a7c4-8418-47a9-a44d-2778fa37bf8e",
   "metadata": {},
   "outputs": [
    {
     "data": {
      "text/plain": [
       "array(['Month-to-month', 'One year', 'Two year'], dtype=object)"
      ]
     },
     "execution_count": 26,
     "metadata": {},
     "output_type": "execute_result"
    }
   ],
   "source": [
    "df_contract['type'].unique()"
   ]
  },
  {
   "cell_type": "code",
   "execution_count": 27,
   "id": "ebacbb70-9496-405c-b0de-44e2a5aab073",
   "metadata": {},
   "outputs": [
    {
     "data": {
      "text/plain": [
       "array(['Yes', 'No'], dtype=object)"
      ]
     },
     "execution_count": 27,
     "metadata": {},
     "output_type": "execute_result"
    }
   ],
   "source": [
    "df_contract['paperless_billing'].unique()"
   ]
  },
  {
   "cell_type": "code",
   "execution_count": 28,
   "id": "300e6722-dd12-4349-9c42-dc29ae59c687",
   "metadata": {},
   "outputs": [
    {
     "data": {
      "text/plain": [
       "array(['Electronic check', 'Mailed check', 'Bank transfer (automatic)',\n",
       "       'Credit card (automatic)'], dtype=object)"
      ]
     },
     "execution_count": 28,
     "metadata": {},
     "output_type": "execute_result"
    }
   ],
   "source": [
    "df_contract['payment_method'].unique()"
   ]
  },
  {
   "cell_type": "markdown",
   "id": "a2260c6a-cd5b-4d4d-8293-bfb61a13a947",
   "metadata": {},
   "source": [
    "Эти признаки едва ли влияют на принятие клиентов решения уйти - в текущих реалиях клиент легко может менять эти атрибуты услуги, поэтому мы их не будем использовать и просто удалим"
   ]
  },
  {
   "cell_type": "code",
   "execution_count": 29,
   "id": "25771f61-b74c-437f-b09b-33cb8a353a6e",
   "metadata": {},
   "outputs": [
    {
     "name": "stdout",
     "output_type": "stream",
     "text": [
      "Признаки ДО удаления: Index(['customer_id', 'begin_date', 'end_date', 'type', 'paperless_billing',\n",
      "       'payment_method', 'monthly_charges', 'total_charges', 'former_client',\n",
      "       'day_used'],\n",
      "      dtype='object')\n",
      "Признаки ПОСЛЕ удаления: Index(['customer_id', 'begin_date', 'end_date', 'monthly_charges',\n",
      "       'total_charges', 'former_client', 'day_used'],\n",
      "      dtype='object')\n"
     ]
    }
   ],
   "source": [
    "print('Признаки ДО удаления:', df_contract.columns)\n",
    "df_contract.drop(columns=['type', 'paperless_billing', 'payment_method'], inplace=True)\n",
    "print('Признаки ПОСЛЕ удаления:', df_contract.columns)"
   ]
  },
  {
   "cell_type": "markdown",
   "id": "58be1738",
   "metadata": {},
   "source": [
    "После того, как мы добавили новый признаки 'formercleint' и 'dayused', то признаки 'begin_date' и 'end_date' нам так же не нужны - удалим их:"
   ]
  },
  {
   "cell_type": "code",
   "execution_count": 30,
   "id": "4ebe0ad8-2743-4b39-82be-00458d85f113",
   "metadata": {},
   "outputs": [
    {
     "name": "stdout",
     "output_type": "stream",
     "text": [
      "Признаки ДО удаления: Index(['customer_id', 'begin_date', 'end_date', 'monthly_charges',\n",
      "       'total_charges', 'former_client', 'day_used'],\n",
      "      dtype='object')\n",
      "Признаки ПОСЛЕ удаления: Index(['customer_id', 'monthly_charges', 'total_charges', 'former_client',\n",
      "       'day_used'],\n",
      "      dtype='object')\n"
     ]
    }
   ],
   "source": [
    "print('Признаки ДО удаления:', df_contract.columns)\n",
    "df_contract.drop(columns=['begin_date', 'end_date' ], inplace=True)\n",
    "print('Признаки ПОСЛЕ удаления:', df_contract.columns)"
   ]
  },
  {
   "cell_type": "markdown",
   "id": "ac45f830-ffe8-4430-afe6-51cfa4b829d6",
   "metadata": {},
   "source": [
    "#### Вывод по разделу:\n",
    "- создали новые признаки:\n",
    "    - 'formerclient' - 1 для ушедших клиентов, 0 для текущих клиентов. Будет целевым признаком\n",
    "    - 'dayused' - кол-во дней пользования услугами. Для ушедших клиентов считается от даты заключения договора по дату расторжения, для действующих от даты заключения по дату выгрузки данных\n",
    "- удалили признаки 'begindate', 'enddate',  'type', 'paperlesbilling', 'paymentmethod'\n",
    "- заполнение пустых значений  в признаке 'totalcharges' пока не делали, сделаем после объединения датасетов"
   ]
  },
  {
   "cell_type": "markdown",
   "id": "505d752e-e4aa-4a17-b46a-e80d7b58fac2",
   "metadata": {},
   "source": [
    "### Датасет personal"
   ]
  },
  {
   "cell_type": "code",
   "execution_count": 31,
   "id": "d8ac47c9-088b-4715-82bf-63e854d35b6d",
   "metadata": {},
   "outputs": [],
   "source": [
    "df_personal.columns = column_to_snake_column(df_personal)"
   ]
  },
  {
   "cell_type": "code",
   "execution_count": 32,
   "id": "88515330-458b-47ee-8065-59c5fd8e5cb0",
   "metadata": {},
   "outputs": [
    {
     "data": {
      "text/plain": [
       "0"
      ]
     },
     "execution_count": 32,
     "metadata": {},
     "output_type": "execute_result"
    }
   ],
   "source": [
    "df_personal.duplicated().sum()"
   ]
  },
  {
   "cell_type": "code",
   "execution_count": 33,
   "id": "2230ee89-13be-4c50-a3d3-96eacf531da5",
   "metadata": {},
   "outputs": [
    {
     "data": {
      "text/plain": [
       "0"
      ]
     },
     "execution_count": 33,
     "metadata": {},
     "output_type": "execute_result"
    }
   ],
   "source": [
    "df_personal['customer_id'].duplicated().sum()"
   ]
  },
  {
   "cell_type": "markdown",
   "id": "d31b40d3-2709-48a2-8132-077b0c6f157b",
   "metadata": {},
   "source": [
    "Пропусков нет, дубликатов нет. Посмотрим данные:"
   ]
  },
  {
   "cell_type": "code",
   "execution_count": 34,
   "id": "b840939e-a842-49fe-80c1-c1e2277d8f71",
   "metadata": {},
   "outputs": [
    {
     "data": {
      "text/html": [
       "<div>\n",
       "<style scoped>\n",
       "    .dataframe tbody tr th:only-of-type {\n",
       "        vertical-align: middle;\n",
       "    }\n",
       "\n",
       "    .dataframe tbody tr th {\n",
       "        vertical-align: top;\n",
       "    }\n",
       "\n",
       "    .dataframe thead th {\n",
       "        text-align: right;\n",
       "    }\n",
       "</style>\n",
       "<table border=\"1\" class=\"dataframe\">\n",
       "  <thead>\n",
       "    <tr style=\"text-align: right;\">\n",
       "      <th></th>\n",
       "      <th>customer_id</th>\n",
       "      <th>gender</th>\n",
       "      <th>senior_citizen</th>\n",
       "      <th>partner</th>\n",
       "      <th>dependents</th>\n",
       "    </tr>\n",
       "  </thead>\n",
       "  <tbody>\n",
       "    <tr>\n",
       "      <th>0</th>\n",
       "      <td>7590-VHVEG</td>\n",
       "      <td>Female</td>\n",
       "      <td>0</td>\n",
       "      <td>Yes</td>\n",
       "      <td>No</td>\n",
       "    </tr>\n",
       "    <tr>\n",
       "      <th>1</th>\n",
       "      <td>5575-GNVDE</td>\n",
       "      <td>Male</td>\n",
       "      <td>0</td>\n",
       "      <td>No</td>\n",
       "      <td>No</td>\n",
       "    </tr>\n",
       "    <tr>\n",
       "      <th>2</th>\n",
       "      <td>3668-QPYBK</td>\n",
       "      <td>Male</td>\n",
       "      <td>0</td>\n",
       "      <td>No</td>\n",
       "      <td>No</td>\n",
       "    </tr>\n",
       "    <tr>\n",
       "      <th>3</th>\n",
       "      <td>7795-CFOCW</td>\n",
       "      <td>Male</td>\n",
       "      <td>0</td>\n",
       "      <td>No</td>\n",
       "      <td>No</td>\n",
       "    </tr>\n",
       "    <tr>\n",
       "      <th>4</th>\n",
       "      <td>9237-HQITU</td>\n",
       "      <td>Female</td>\n",
       "      <td>0</td>\n",
       "      <td>No</td>\n",
       "      <td>No</td>\n",
       "    </tr>\n",
       "  </tbody>\n",
       "</table>\n",
       "</div>"
      ],
      "text/plain": [
       "  customer_id  gender  senior_citizen partner dependents\n",
       "0  7590-VHVEG  Female               0     Yes         No\n",
       "1  5575-GNVDE    Male               0      No         No\n",
       "2  3668-QPYBK    Male               0      No         No\n",
       "3  7795-CFOCW    Male               0      No         No\n",
       "4  9237-HQITU  Female               0      No         No"
      ]
     },
     "execution_count": 34,
     "metadata": {},
     "output_type": "execute_result"
    }
   ],
   "source": [
    "df_personal.head()"
   ]
  },
  {
   "cell_type": "markdown",
   "id": "efc0bf01-8b3f-4030-99f2-cb37bda12d70",
   "metadata": {},
   "source": [
    "Посмотрим на признаки:"
   ]
  },
  {
   "cell_type": "code",
   "execution_count": 35,
   "id": "09becd2b-d2ed-45ae-8e29-2bd4831f5ef6",
   "metadata": {},
   "outputs": [
    {
     "name": "stdout",
     "output_type": "stream",
     "text": [
      "['Female' 'Male']\n",
      "Male      0.504756\n",
      "Female    0.495244\n",
      "Name: gender, dtype: float64\n"
     ]
    }
   ],
   "source": [
    "print(df_personal['gender'].unique())\n",
    "print(df_personal['gender'].value_counts(normalize=True))"
   ]
  },
  {
   "cell_type": "code",
   "execution_count": 36,
   "id": "534ba7a7-1dbb-4ae5-956c-63f3ef8e6fd1",
   "metadata": {},
   "outputs": [
    {
     "name": "stdout",
     "output_type": "stream",
     "text": [
      "[0 1]\n",
      "0    0.837853\n",
      "1    0.162147\n",
      "Name: senior_citizen, dtype: float64\n"
     ]
    }
   ],
   "source": [
    "print(df_personal['senior_citizen'].unique())\n",
    "print(df_personal['senior_citizen'].value_counts(normalize=True))"
   ]
  },
  {
   "cell_type": "code",
   "execution_count": 37,
   "id": "0ea8ef14-6945-4b6a-8b0e-658ec8f0bd4a",
   "metadata": {},
   "outputs": [
    {
     "name": "stdout",
     "output_type": "stream",
     "text": [
      "['Yes' 'No']\n",
      "No     0.516967\n",
      "Yes    0.483033\n",
      "Name: partner, dtype: float64\n"
     ]
    }
   ],
   "source": [
    "print(df_personal['partner'].unique())\n",
    "print(df_personal['partner'].value_counts(normalize=True))"
   ]
  },
  {
   "cell_type": "code",
   "execution_count": 38,
   "id": "e50c5e60-39e5-4965-81f7-9395f022f2d1",
   "metadata": {},
   "outputs": [
    {
     "name": "stdout",
     "output_type": "stream",
     "text": [
      "['No' 'Yes']\n",
      "No     0.700412\n",
      "Yes    0.299588\n",
      "Name: dependents, dtype: float64\n"
     ]
    }
   ],
   "source": [
    "print(df_personal['dependents'].unique())\n",
    "print(df_personal['dependents'].value_counts(normalize=True))"
   ]
  },
  {
   "cell_type": "markdown",
   "id": "f0d8dfdd-c532-4161-9a15-a57c805b720d",
   "metadata": {},
   "source": [
    "#### Вывод по разделу\n",
    "\n",
    "Признак 'senior_citizen' (пенсионер) скорее всего влияет на вероятность уходя клиента - его мы будем использовать закодировав с помощью sklearn.preprocessing.OneHotEncoder, а вот какой смысл в признаках 'partner' и 'dependents' и будем ли мы их использовать - пока не ясно."
   ]
  },
  {
   "cell_type": "markdown",
   "id": "f3d3ea1b-a53a-46b3-b2e8-2cf667ea7b19",
   "metadata": {},
   "source": [
    "### Датасет internet"
   ]
  },
  {
   "cell_type": "code",
   "execution_count": 39,
   "id": "d9064230-62c2-4b27-88f9-283fba36bdd7",
   "metadata": {},
   "outputs": [],
   "source": [
    "df_internet.columns = column_to_snake_column(df_internet)"
   ]
  },
  {
   "cell_type": "code",
   "execution_count": 40,
   "id": "cfbed2a7-b58b-4847-a1f3-91f82e605533",
   "metadata": {},
   "outputs": [
    {
     "name": "stdout",
     "output_type": "stream",
     "text": [
      "<class 'pandas.core.frame.DataFrame'>\n",
      "RangeIndex: 5517 entries, 0 to 5516\n",
      "Data columns (total 8 columns):\n",
      " #   Column             Non-Null Count  Dtype \n",
      "---  ------             --------------  ----- \n",
      " 0   customer_id        5517 non-null   object\n",
      " 1   internet_service   5517 non-null   object\n",
      " 2   online_security    5517 non-null   object\n",
      " 3   online_backup      5517 non-null   object\n",
      " 4   device_protection  5517 non-null   object\n",
      " 5   tech_support       5517 non-null   object\n",
      " 6   streaming_tv       5517 non-null   object\n",
      " 7   streaming_movies   5517 non-null   object\n",
      "dtypes: object(8)\n",
      "memory usage: 344.9+ KB\n"
     ]
    }
   ],
   "source": [
    "df_internet.info()"
   ]
  },
  {
   "cell_type": "code",
   "execution_count": 41,
   "id": "2ebc2682-de1a-41ad-8e6c-3c927d88d17c",
   "metadata": {},
   "outputs": [
    {
     "data": {
      "text/plain": [
       "0"
      ]
     },
     "execution_count": 41,
     "metadata": {},
     "output_type": "execute_result"
    }
   ],
   "source": [
    "df_internet.duplicated().sum()"
   ]
  },
  {
   "cell_type": "code",
   "execution_count": 42,
   "id": "d544fe50-7e73-4503-b658-be6d9a3ddd46",
   "metadata": {},
   "outputs": [
    {
     "data": {
      "text/plain": [
       "0"
      ]
     },
     "execution_count": 42,
     "metadata": {},
     "output_type": "execute_result"
    }
   ],
   "source": [
    "df_internet['customer_id'].duplicated().sum()"
   ]
  },
  {
   "cell_type": "markdown",
   "id": "9deb4d07-8fd5-4098-8f7d-90fbd773e925",
   "metadata": {},
   "source": [
    "Пропусков нет, дубликатов нет. Посмотрим данные:"
   ]
  },
  {
   "cell_type": "code",
   "execution_count": 43,
   "id": "607e69fa-19be-4ef2-b466-7dbe642a95ff",
   "metadata": {},
   "outputs": [
    {
     "data": {
      "text/html": [
       "<div>\n",
       "<style scoped>\n",
       "    .dataframe tbody tr th:only-of-type {\n",
       "        vertical-align: middle;\n",
       "    }\n",
       "\n",
       "    .dataframe tbody tr th {\n",
       "        vertical-align: top;\n",
       "    }\n",
       "\n",
       "    .dataframe thead th {\n",
       "        text-align: right;\n",
       "    }\n",
       "</style>\n",
       "<table border=\"1\" class=\"dataframe\">\n",
       "  <thead>\n",
       "    <tr style=\"text-align: right;\">\n",
       "      <th></th>\n",
       "      <th>customer_id</th>\n",
       "      <th>internet_service</th>\n",
       "      <th>online_security</th>\n",
       "      <th>online_backup</th>\n",
       "      <th>device_protection</th>\n",
       "      <th>tech_support</th>\n",
       "      <th>streaming_tv</th>\n",
       "      <th>streaming_movies</th>\n",
       "    </tr>\n",
       "  </thead>\n",
       "  <tbody>\n",
       "    <tr>\n",
       "      <th>0</th>\n",
       "      <td>7590-VHVEG</td>\n",
       "      <td>DSL</td>\n",
       "      <td>No</td>\n",
       "      <td>Yes</td>\n",
       "      <td>No</td>\n",
       "      <td>No</td>\n",
       "      <td>No</td>\n",
       "      <td>No</td>\n",
       "    </tr>\n",
       "    <tr>\n",
       "      <th>1</th>\n",
       "      <td>5575-GNVDE</td>\n",
       "      <td>DSL</td>\n",
       "      <td>Yes</td>\n",
       "      <td>No</td>\n",
       "      <td>Yes</td>\n",
       "      <td>No</td>\n",
       "      <td>No</td>\n",
       "      <td>No</td>\n",
       "    </tr>\n",
       "    <tr>\n",
       "      <th>2</th>\n",
       "      <td>3668-QPYBK</td>\n",
       "      <td>DSL</td>\n",
       "      <td>Yes</td>\n",
       "      <td>Yes</td>\n",
       "      <td>No</td>\n",
       "      <td>No</td>\n",
       "      <td>No</td>\n",
       "      <td>No</td>\n",
       "    </tr>\n",
       "    <tr>\n",
       "      <th>3</th>\n",
       "      <td>7795-CFOCW</td>\n",
       "      <td>DSL</td>\n",
       "      <td>Yes</td>\n",
       "      <td>No</td>\n",
       "      <td>Yes</td>\n",
       "      <td>Yes</td>\n",
       "      <td>No</td>\n",
       "      <td>No</td>\n",
       "    </tr>\n",
       "    <tr>\n",
       "      <th>4</th>\n",
       "      <td>9237-HQITU</td>\n",
       "      <td>Fiber optic</td>\n",
       "      <td>No</td>\n",
       "      <td>No</td>\n",
       "      <td>No</td>\n",
       "      <td>No</td>\n",
       "      <td>No</td>\n",
       "      <td>No</td>\n",
       "    </tr>\n",
       "  </tbody>\n",
       "</table>\n",
       "</div>"
      ],
      "text/plain": [
       "  customer_id internet_service online_security online_backup  \\\n",
       "0  7590-VHVEG              DSL              No           Yes   \n",
       "1  5575-GNVDE              DSL             Yes            No   \n",
       "2  3668-QPYBK              DSL             Yes           Yes   \n",
       "3  7795-CFOCW              DSL             Yes            No   \n",
       "4  9237-HQITU      Fiber optic              No            No   \n",
       "\n",
       "  device_protection tech_support streaming_tv streaming_movies  \n",
       "0                No           No           No               No  \n",
       "1               Yes           No           No               No  \n",
       "2                No           No           No               No  \n",
       "3               Yes          Yes           No               No  \n",
       "4                No           No           No               No  "
      ]
     },
     "execution_count": 43,
     "metadata": {},
     "output_type": "execute_result"
    }
   ],
   "source": [
    "df_internet.head()"
   ]
  },
  {
   "cell_type": "code",
   "execution_count": 44,
   "id": "601c1cad-82b7-42ae-b1d6-c25972ea7d82",
   "metadata": {},
   "outputs": [
    {
     "name": "stdout",
     "output_type": "stream",
     "text": [
      "****************************************\n",
      "Признак: internet_service\n",
      "['DSL' 'Fiber optic']\n",
      "Fiber optic    0.561175\n",
      "DSL            0.438825\n",
      "Name: internet_service, dtype: float64\n",
      "****************************************\n",
      "Признак: online_security\n",
      "['No' 'Yes']\n",
      "No     0.63404\n",
      "Yes    0.36596\n",
      "Name: online_security, dtype: float64\n",
      "****************************************\n",
      "Признак: online_backup\n",
      "['Yes' 'No']\n",
      "No     0.559724\n",
      "Yes    0.440276\n",
      "Name: online_backup, dtype: float64\n",
      "****************************************\n",
      "Признак: device_protection\n",
      "['No' 'Yes']\n",
      "No     0.560993\n",
      "Yes    0.439007\n",
      "Name: device_protection, dtype: float64\n",
      "****************************************\n",
      "Признак: tech_support\n",
      "['No' 'Yes']\n",
      "No     0.629509\n",
      "Yes    0.370491\n",
      "Name: tech_support, dtype: float64\n",
      "****************************************\n",
      "Признак: streaming_tv\n",
      "['No' 'Yes']\n",
      "No     0.509335\n",
      "Yes    0.490665\n",
      "Name: streaming_tv, dtype: float64\n",
      "****************************************\n",
      "Признак: streaming_movies\n",
      "['No' 'Yes']\n",
      "No     0.504803\n",
      "Yes    0.495197\n",
      "Name: streaming_movies, dtype: float64\n"
     ]
    }
   ],
   "source": [
    "for col in [x for x in df_internet.columns if x !='customer_id']:\n",
    "    print('*' * 40)\n",
    "    print('Признак:', col)\n",
    "    print(df_internet[col].unique())\n",
    "    print(df_internet[col].value_counts(normalize=True))"
   ]
  },
  {
   "cell_type": "markdown",
   "id": "78eb90bf-a46c-4b33-a03a-eb1a654fae5d",
   "metadata": {},
   "source": [
    "#### Вывод по разделу\n",
    "Все признаки, кроме 'customerid', - это услуги/хар-ки услуги, поэтому их все будем использовать. Признаки категориальные - кодировать будем с помощью `sklearn.preprocessing.OneHotEncoder`"
   ]
  },
  {
   "cell_type": "markdown",
   "id": "091785b1-58cb-46aa-a6cf-3071b80fc6f1",
   "metadata": {},
   "source": [
    "### Датасет phone"
   ]
  },
  {
   "cell_type": "code",
   "execution_count": 45,
   "id": "104a8d48-904d-458b-9c8a-7345c1f8ef96",
   "metadata": {},
   "outputs": [],
   "source": [
    "df_phone.columns = column_to_snake_column(df_phone)"
   ]
  },
  {
   "cell_type": "code",
   "execution_count": 46,
   "id": "28107fdc-ea56-403a-91e0-25c6d96dcad3",
   "metadata": {},
   "outputs": [
    {
     "name": "stdout",
     "output_type": "stream",
     "text": [
      "<class 'pandas.core.frame.DataFrame'>\n",
      "RangeIndex: 6361 entries, 0 to 6360\n",
      "Data columns (total 2 columns):\n",
      " #   Column          Non-Null Count  Dtype \n",
      "---  ------          --------------  ----- \n",
      " 0   customer_id     6361 non-null   object\n",
      " 1   multiple_lines  6361 non-null   object\n",
      "dtypes: object(2)\n",
      "memory usage: 99.5+ KB\n"
     ]
    }
   ],
   "source": [
    "df_phone.info()"
   ]
  },
  {
   "cell_type": "code",
   "execution_count": 47,
   "id": "ffb1591b-73af-479d-a306-9e9fa225eabb",
   "metadata": {},
   "outputs": [
    {
     "data": {
      "text/plain": [
       "0"
      ]
     },
     "execution_count": 47,
     "metadata": {},
     "output_type": "execute_result"
    }
   ],
   "source": [
    "df_phone.duplicated().sum()"
   ]
  },
  {
   "cell_type": "code",
   "execution_count": 48,
   "id": "fee1b6a0-b90d-4cdb-a93a-8642b9239f97",
   "metadata": {},
   "outputs": [
    {
     "data": {
      "text/plain": [
       "0"
      ]
     },
     "execution_count": 48,
     "metadata": {},
     "output_type": "execute_result"
    }
   ],
   "source": [
    "df_phone['customer_id'].duplicated().sum()"
   ]
  },
  {
   "cell_type": "code",
   "execution_count": 49,
   "id": "21623848-b843-4c09-bd10-487bd0635256",
   "metadata": {},
   "outputs": [
    {
     "data": {
      "text/html": [
       "<div>\n",
       "<style scoped>\n",
       "    .dataframe tbody tr th:only-of-type {\n",
       "        vertical-align: middle;\n",
       "    }\n",
       "\n",
       "    .dataframe tbody tr th {\n",
       "        vertical-align: top;\n",
       "    }\n",
       "\n",
       "    .dataframe thead th {\n",
       "        text-align: right;\n",
       "    }\n",
       "</style>\n",
       "<table border=\"1\" class=\"dataframe\">\n",
       "  <thead>\n",
       "    <tr style=\"text-align: right;\">\n",
       "      <th></th>\n",
       "      <th>customer_id</th>\n",
       "      <th>multiple_lines</th>\n",
       "    </tr>\n",
       "  </thead>\n",
       "  <tbody>\n",
       "    <tr>\n",
       "      <th>0</th>\n",
       "      <td>5575-GNVDE</td>\n",
       "      <td>No</td>\n",
       "    </tr>\n",
       "    <tr>\n",
       "      <th>1</th>\n",
       "      <td>3668-QPYBK</td>\n",
       "      <td>No</td>\n",
       "    </tr>\n",
       "    <tr>\n",
       "      <th>2</th>\n",
       "      <td>9237-HQITU</td>\n",
       "      <td>No</td>\n",
       "    </tr>\n",
       "    <tr>\n",
       "      <th>3</th>\n",
       "      <td>9305-CDSKC</td>\n",
       "      <td>Yes</td>\n",
       "    </tr>\n",
       "    <tr>\n",
       "      <th>4</th>\n",
       "      <td>1452-KIOVK</td>\n",
       "      <td>Yes</td>\n",
       "    </tr>\n",
       "  </tbody>\n",
       "</table>\n",
       "</div>"
      ],
      "text/plain": [
       "  customer_id multiple_lines\n",
       "0  5575-GNVDE             No\n",
       "1  3668-QPYBK             No\n",
       "2  9237-HQITU             No\n",
       "3  9305-CDSKC            Yes\n",
       "4  1452-KIOVK            Yes"
      ]
     },
     "execution_count": 49,
     "metadata": {},
     "output_type": "execute_result"
    }
   ],
   "source": [
    "df_phone.head()"
   ]
  },
  {
   "cell_type": "code",
   "execution_count": 50,
   "id": "af7a0f9c-48a5-4efc-8354-ea0cd3328fdb",
   "metadata": {},
   "outputs": [
    {
     "name": "stdout",
     "output_type": "stream",
     "text": [
      "['No' 'Yes']\n",
      "No     0.532935\n",
      "Yes    0.467065\n",
      "Name: multiple_lines, dtype: float64\n"
     ]
    }
   ],
   "source": [
    "print(df_phone['multiple_lines'].unique())\n",
    "print(df_phone['multiple_lines'].value_counts(normalize=True))"
   ]
  },
  {
   "cell_type": "markdown",
   "id": "0b2a2ed9-67fe-4152-9394-0a53598abc37",
   "metadata": {},
   "source": [
    "#### Вывод по разделу\n",
    "\n",
    "Признак 'multiple_lines', - это признак пользования услугой, поэтому будем использовать. Признак категориальный - кодировать будем с помощью `sklearn.preprocessing.OneHotEncoder`"
   ]
  },
  {
   "cell_type": "markdown",
   "id": "cd622d6c-2c51-4da3-b536-d8167bacc491",
   "metadata": {},
   "source": [
    "# Создание модели"
   ]
  },
  {
   "cell_type": "markdown",
   "id": "c96b850d-4de6-484d-9229-6eb36ea2ae60",
   "metadata": {},
   "source": [
    "## Подготовка данных"
   ]
  },
  {
   "cell_type": "markdown",
   "id": "cb3151ad-6be1-4566-96cb-51d44537308a",
   "metadata": {},
   "source": [
    "Объединим данные из всех файлов в один датафрейм"
   ]
  },
  {
   "cell_type": "code",
   "execution_count": 51,
   "id": "89067b55-c8a6-42e5-9f5e-52f2edf59010",
   "metadata": {},
   "outputs": [
    {
     "name": "stdout",
     "output_type": "stream",
     "text": [
      "<class 'pandas.core.frame.DataFrame'>\n",
      "Int64Index: 7043 entries, 0 to 7042\n",
      "Data columns (total 17 columns):\n",
      " #   Column             Non-Null Count  Dtype  \n",
      "---  ------             --------------  -----  \n",
      " 0   customer_id        7043 non-null   object \n",
      " 1   monthly_charges    7043 non-null   float64\n",
      " 2   total_charges      7043 non-null   object \n",
      " 3   former_client      7043 non-null   int64  \n",
      " 4   day_used           7043 non-null   int64  \n",
      " 5   gender             7043 non-null   object \n",
      " 6   senior_citizen     7043 non-null   int64  \n",
      " 7   partner            7043 non-null   object \n",
      " 8   dependents         7043 non-null   object \n",
      " 9   internet_service   5517 non-null   object \n",
      " 10  online_security    5517 non-null   object \n",
      " 11  online_backup      5517 non-null   object \n",
      " 12  device_protection  5517 non-null   object \n",
      " 13  tech_support       5517 non-null   object \n",
      " 14  streaming_tv       5517 non-null   object \n",
      " 15  streaming_movies   5517 non-null   object \n",
      " 16  multiple_lines     6361 non-null   object \n",
      "dtypes: float64(1), int64(3), object(13)\n",
      "memory usage: 990.4+ KB\n"
     ]
    }
   ],
   "source": [
    "df = pd.merge(df_contract, df_personal,  how='left', on='customer_id')\n",
    "df = pd.merge(df, df_internet,  how='left', on='customer_id')\n",
    "df = pd.merge(df, df_phone,  how='left', on='customer_id')\n",
    "\n",
    "df.info()"
   ]
  },
  {
   "cell_type": "markdown",
   "id": "6b3e3ba8-1225-4591-a701-adc4c5ba7931",
   "metadata": {},
   "source": [
    "Заменим пробелы в признаке 'total_charges' на значения из  колонки 'monthly_charges'. "
   ]
  },
  {
   "cell_type": "code",
   "execution_count": 52,
   "id": "1f506233-e7af-4832-be15-65a682427672",
   "metadata": {},
   "outputs": [
    {
     "name": "stdout",
     "output_type": "stream",
     "text": [
      "0\n"
     ]
    }
   ],
   "source": [
    "idx = df['total_charges'] == ' '\n",
    "df.loc[idx, 'total_charges'] = df.loc[idx, 'monthly_charges']\n",
    "print((df['total_charges'] == ' ').sum())\n",
    "df['total_charges'] = df['total_charges'] .astype('float')"
   ]
  },
  {
   "cell_type": "code",
   "execution_count": 53,
   "id": "6d308095-3c80-400f-9eb6-dd3074ad4db4",
   "metadata": {},
   "outputs": [
    {
     "name": "stdout",
     "output_type": "stream",
     "text": [
      "<class 'pandas.core.frame.DataFrame'>\n",
      "Int64Index: 7043 entries, 0 to 7042\n",
      "Data columns (total 17 columns):\n",
      " #   Column             Non-Null Count  Dtype  \n",
      "---  ------             --------------  -----  \n",
      " 0   customer_id        7043 non-null   object \n",
      " 1   monthly_charges    7043 non-null   float64\n",
      " 2   total_charges      7043 non-null   float64\n",
      " 3   former_client      7043 non-null   int64  \n",
      " 4   day_used           7043 non-null   int64  \n",
      " 5   gender             7043 non-null   object \n",
      " 6   senior_citizen     7043 non-null   int64  \n",
      " 7   partner            7043 non-null   object \n",
      " 8   dependents         7043 non-null   object \n",
      " 9   internet_service   5517 non-null   object \n",
      " 10  online_security    5517 non-null   object \n",
      " 11  online_backup      5517 non-null   object \n",
      " 12  device_protection  5517 non-null   object \n",
      " 13  tech_support       5517 non-null   object \n",
      " 14  streaming_tv       5517 non-null   object \n",
      " 15  streaming_movies   5517 non-null   object \n",
      " 16  multiple_lines     6361 non-null   object \n",
      "dtypes: float64(2), int64(3), object(12)\n",
      "memory usage: 990.4+ KB\n"
     ]
    }
   ],
   "source": [
    "df.info()"
   ]
  },
  {
   "cell_type": "markdown",
   "id": "d79f0027-ad97-4edb-9830-fcb03e28b1f0",
   "metadata": {},
   "source": [
    "После объединения даннх у нас появились пропуски в признаках, определяющих выбранные услуги, выбранные клиентами, либо характеристики услуг. \n",
    "\n",
    "Заменять пропуски будем на значения:\n",
    "- `NA` для признаков `internet_service` и `multiple_lines`, т.к. текущие значения в признаках определяют характеристики услуги, а не ее наличие/отсутствие. Значение `NA` добавит как разы смысл \"отсутствие услуги\"\n",
    "- `No` для всех остальных признаков, т.к. они определяют наличие/отсутствие услуги, таким образом у нас после применения класса OHE не будет множится кол-во признаков."
   ]
  },
  {
   "cell_type": "code",
   "execution_count": 54,
   "id": "1737888c-df6c-4d43-9c7e-5f3b311931c8",
   "metadata": {},
   "outputs": [
    {
     "name": "stdout",
     "output_type": "stream",
     "text": [
      "<class 'pandas.core.frame.DataFrame'>\n",
      "Int64Index: 7043 entries, 0 to 7042\n",
      "Data columns (total 17 columns):\n",
      " #   Column             Non-Null Count  Dtype  \n",
      "---  ------             --------------  -----  \n",
      " 0   customer_id        7043 non-null   object \n",
      " 1   monthly_charges    7043 non-null   float64\n",
      " 2   total_charges      7043 non-null   float64\n",
      " 3   former_client      7043 non-null   int64  \n",
      " 4   day_used           7043 non-null   int64  \n",
      " 5   gender             7043 non-null   object \n",
      " 6   senior_citizen     7043 non-null   int64  \n",
      " 7   partner            7043 non-null   object \n",
      " 8   dependents         7043 non-null   object \n",
      " 9   internet_service   7043 non-null   object \n",
      " 10  online_security    7043 non-null   object \n",
      " 11  online_backup      7043 non-null   object \n",
      " 12  device_protection  7043 non-null   object \n",
      " 13  tech_support       7043 non-null   object \n",
      " 14  streaming_tv       7043 non-null   object \n",
      " 15  streaming_movies   7043 non-null   object \n",
      " 16  multiple_lines     7043 non-null   object \n",
      "dtypes: float64(2), int64(3), object(12)\n",
      "memory usage: 990.4+ KB\n"
     ]
    }
   ],
   "source": [
    "df[['internet_service', 'multiple_lines']] = df[['internet_service', 'multiple_lines']].fillna('NA')\n",
    "df = df.fillna('No')\n",
    "df.info()"
   ]
  },
  {
   "cell_type": "markdown",
   "id": "12ebb1eb-085f-4e78-baed-7a09676aae3b",
   "metadata": {},
   "source": [
    "Сохраним имена категориальных и числовых признаков в списки:"
   ]
  },
  {
   "cell_type": "code",
   "execution_count": 55,
   "id": "5d50d95d-282a-4126-b010-f2f6b3d86cf1",
   "metadata": {},
   "outputs": [],
   "source": [
    "l_num_cols = ['monthly_charges', 'total_charges', 'day_used']\n",
    "l_cat_cols = ['gender', 'senior_citizen', 'partner', 'dependents', 'internet_service', 'online_security', \n",
    "              'online_backup', 'device_protection', 'tech_support', 'streaming_tv', 'streaming_movies', 'multiple_lines']"
   ]
  },
  {
   "cell_type": "markdown",
   "id": "a782a345-f132-4546-b0da-524583a33ef3",
   "metadata": {},
   "source": [
    "Рассчитаем матрицу корреляции и отобразим:"
   ]
  },
  {
   "cell_type": "code",
   "execution_count": 56,
   "id": "39e2293f-ddf5-4469-9f2a-e1f6176b4122",
   "metadata": {},
   "outputs": [
    {
     "data": {
      "image/png": "[encoded data removed]",
      "text/plain": [
       "<Figure size 720x576 with 2 Axes>"
      ]
     },
     "metadata": {
      "needs_background": "light"
     },
     "output_type": "display_data"
    }
   ],
   "source": [
    "corr_mtx = phik.phik_matrix(df.drop(columns=['customer_id']), interval_cols=l_num_cols)\n",
    "plot_correlation_matrix(corr_mtx.values, x_labels=corr_mtx.columns, y_labels=corr_mtx.index, figsize=(10,8), vmin=0, vmax=1)"
   ]
  },
  {
   "cell_type": "code",
   "execution_count": 57,
   "id": "848d0cc2-825a-4697-aaf6-a50cbb646145",
   "metadata": {},
   "outputs": [
    {
     "data": {
      "text/html": [
       "<div>\n",
       "<style scoped>\n",
       "    .dataframe tbody tr th:only-of-type {\n",
       "        vertical-align: middle;\n",
       "    }\n",
       "\n",
       "    .dataframe tbody tr th {\n",
       "        vertical-align: top;\n",
       "    }\n",
       "\n",
       "    .dataframe thead th {\n",
       "        text-align: right;\n",
       "    }\n",
       "</style>\n",
       "<table border=\"1\" class=\"dataframe\">\n",
       "  <thead>\n",
       "    <tr style=\"text-align: right;\">\n",
       "      <th></th>\n",
       "      <th>monthly_charges</th>\n",
       "      <th>total_charges</th>\n",
       "      <th>former_client</th>\n",
       "      <th>day_used</th>\n",
       "      <th>gender</th>\n",
       "      <th>senior_citizen</th>\n",
       "      <th>partner</th>\n",
       "      <th>dependents</th>\n",
       "      <th>internet_service</th>\n",
       "      <th>online_security</th>\n",
       "      <th>online_backup</th>\n",
       "      <th>device_protection</th>\n",
       "      <th>tech_support</th>\n",
       "      <th>streaming_tv</th>\n",
       "      <th>streaming_movies</th>\n",
       "      <th>multiple_lines</th>\n",
       "    </tr>\n",
       "  </thead>\n",
       "  <tbody>\n",
       "    <tr>\n",
       "      <th>monthly_charges</th>\n",
       "      <td>1.000000</td>\n",
       "      <td>0.711029</td>\n",
       "      <td>0.226280</td>\n",
       "      <td>0.387727</td>\n",
       "      <td>0.008175</td>\n",
       "      <td>0.304985</td>\n",
       "      <td>0.203545</td>\n",
       "      <td>0.184366</td>\n",
       "      <td>0.919002</td>\n",
       "      <td>0.551621</td>\n",
       "      <td>0.629541</td>\n",
       "      <td>0.667481</td>\n",
       "      <td>0.576525</td>\n",
       "      <td>0.835340</td>\n",
       "      <td>0.833307</td>\n",
       "      <td>0.709983</td>\n",
       "    </tr>\n",
       "    <tr>\n",
       "      <th>total_charges</th>\n",
       "      <td>0.711029</td>\n",
       "      <td>1.000000</td>\n",
       "      <td>0.304287</td>\n",
       "      <td>0.847414</td>\n",
       "      <td>0.000000</td>\n",
       "      <td>0.137707</td>\n",
       "      <td>0.381042</td>\n",
       "      <td>0.082134</td>\n",
       "      <td>0.489674</td>\n",
       "      <td>0.521522</td>\n",
       "      <td>0.622643</td>\n",
       "      <td>0.641455</td>\n",
       "      <td>0.549866</td>\n",
       "      <td>0.642144</td>\n",
       "      <td>0.644671</td>\n",
       "      <td>0.467339</td>\n",
       "    </tr>\n",
       "    <tr>\n",
       "      <th>former_client</th>\n",
       "      <td>0.226280</td>\n",
       "      <td>0.304287</td>\n",
       "      <td>1.000000</td>\n",
       "      <td>0.374569</td>\n",
       "      <td>0.008581</td>\n",
       "      <td>0.086159</td>\n",
       "      <td>0.226688</td>\n",
       "      <td>0.046871</td>\n",
       "      <td>0.056621</td>\n",
       "      <td>0.132594</td>\n",
       "      <td>0.229482</td>\n",
       "      <td>0.218380</td>\n",
       "      <td>0.103652</td>\n",
       "      <td>0.200198</td>\n",
       "      <td>0.222232</td>\n",
       "      <td>0.105101</td>\n",
       "    </tr>\n",
       "    <tr>\n",
       "      <th>day_used</th>\n",
       "      <td>0.387727</td>\n",
       "      <td>0.847414</td>\n",
       "      <td>0.374569</td>\n",
       "      <td>1.000000</td>\n",
       "      <td>0.000000</td>\n",
       "      <td>0.063315</td>\n",
       "      <td>0.453688</td>\n",
       "      <td>0.198729</td>\n",
       "      <td>0.060845</td>\n",
       "      <td>0.395693</td>\n",
       "      <td>0.414982</td>\n",
       "      <td>0.426931</td>\n",
       "      <td>0.404795</td>\n",
       "      <td>0.339313</td>\n",
       "      <td>0.339313</td>\n",
       "      <td>0.347289</td>\n",
       "    </tr>\n",
       "    <tr>\n",
       "      <th>gender</th>\n",
       "      <td>0.008175</td>\n",
       "      <td>0.000000</td>\n",
       "      <td>0.008581</td>\n",
       "      <td>0.000000</td>\n",
       "      <td>1.000000</td>\n",
       "      <td>0.000000</td>\n",
       "      <td>0.000000</td>\n",
       "      <td>0.000000</td>\n",
       "      <td>0.000000</td>\n",
       "      <td>0.018397</td>\n",
       "      <td>0.009882</td>\n",
       "      <td>0.000000</td>\n",
       "      <td>0.000000</td>\n",
       "      <td>0.000000</td>\n",
       "      <td>0.000000</td>\n",
       "      <td>0.000000</td>\n",
       "    </tr>\n",
       "    <tr>\n",
       "      <th>senior_citizen</th>\n",
       "      <td>0.304985</td>\n",
       "      <td>0.137707</td>\n",
       "      <td>0.086159</td>\n",
       "      <td>0.063315</td>\n",
       "      <td>0.000000</td>\n",
       "      <td>1.000000</td>\n",
       "      <td>0.016992</td>\n",
       "      <td>0.324576</td>\n",
       "      <td>0.160702</td>\n",
       "      <td>0.057028</td>\n",
       "      <td>0.102065</td>\n",
       "      <td>0.090686</td>\n",
       "      <td>0.092565</td>\n",
       "      <td>0.163120</td>\n",
       "      <td>0.186141</td>\n",
       "      <td>0.087925</td>\n",
       "    </tr>\n",
       "    <tr>\n",
       "      <th>partner</th>\n",
       "      <td>0.203545</td>\n",
       "      <td>0.381042</td>\n",
       "      <td>0.226688</td>\n",
       "      <td>0.453688</td>\n",
       "      <td>0.000000</td>\n",
       "      <td>0.016992</td>\n",
       "      <td>1.000000</td>\n",
       "      <td>0.652122</td>\n",
       "      <td>0.000000</td>\n",
       "      <td>0.221673</td>\n",
       "      <td>0.219223</td>\n",
       "      <td>0.238079</td>\n",
       "      <td>0.185993</td>\n",
       "      <td>0.193258</td>\n",
       "      <td>0.182011</td>\n",
       "      <td>0.086249</td>\n",
       "    </tr>\n",
       "    <tr>\n",
       "      <th>dependents</th>\n",
       "      <td>0.184366</td>\n",
       "      <td>0.082134</td>\n",
       "      <td>0.046871</td>\n",
       "      <td>0.198729</td>\n",
       "      <td>0.000000</td>\n",
       "      <td>0.324576</td>\n",
       "      <td>0.652122</td>\n",
       "      <td>1.000000</td>\n",
       "      <td>0.108463</td>\n",
       "      <td>0.124945</td>\n",
       "      <td>0.031533</td>\n",
       "      <td>0.010416</td>\n",
       "      <td>0.096912</td>\n",
       "      <td>0.017331</td>\n",
       "      <td>0.058999</td>\n",
       "      <td>0.011198</td>\n",
       "    </tr>\n",
       "    <tr>\n",
       "      <th>internet_service</th>\n",
       "      <td>0.919002</td>\n",
       "      <td>0.489674</td>\n",
       "      <td>0.056621</td>\n",
       "      <td>0.060845</td>\n",
       "      <td>0.000000</td>\n",
       "      <td>0.160702</td>\n",
       "      <td>0.000000</td>\n",
       "      <td>0.108463</td>\n",
       "      <td>1.000000</td>\n",
       "      <td>0.241421</td>\n",
       "      <td>0.233602</td>\n",
       "      <td>0.232916</td>\n",
       "      <td>0.239663</td>\n",
       "      <td>0.272818</td>\n",
       "      <td>0.272782</td>\n",
       "      <td>0.739808</td>\n",
       "    </tr>\n",
       "    <tr>\n",
       "      <th>online_security</th>\n",
       "      <td>0.551621</td>\n",
       "      <td>0.521522</td>\n",
       "      <td>0.132594</td>\n",
       "      <td>0.395693</td>\n",
       "      <td>0.018397</td>\n",
       "      <td>0.057028</td>\n",
       "      <td>0.221673</td>\n",
       "      <td>0.124945</td>\n",
       "      <td>0.241421</td>\n",
       "      <td>1.000000</td>\n",
       "      <td>0.430425</td>\n",
       "      <td>0.418474</td>\n",
       "      <td>0.528391</td>\n",
       "      <td>0.272186</td>\n",
       "      <td>0.289097</td>\n",
       "      <td>0.095572</td>\n",
       "    </tr>\n",
       "    <tr>\n",
       "      <th>online_backup</th>\n",
       "      <td>0.629541</td>\n",
       "      <td>0.622643</td>\n",
       "      <td>0.229482</td>\n",
       "      <td>0.414982</td>\n",
       "      <td>0.009882</td>\n",
       "      <td>0.102065</td>\n",
       "      <td>0.219223</td>\n",
       "      <td>0.031533</td>\n",
       "      <td>0.233602</td>\n",
       "      <td>0.430425</td>\n",
       "      <td>1.000000</td>\n",
       "      <td>0.458211</td>\n",
       "      <td>0.445130</td>\n",
       "      <td>0.428007</td>\n",
       "      <td>0.417170</td>\n",
       "      <td>0.140081</td>\n",
       "    </tr>\n",
       "    <tr>\n",
       "      <th>device_protection</th>\n",
       "      <td>0.667481</td>\n",
       "      <td>0.641455</td>\n",
       "      <td>0.218380</td>\n",
       "      <td>0.426931</td>\n",
       "      <td>0.000000</td>\n",
       "      <td>0.090686</td>\n",
       "      <td>0.238079</td>\n",
       "      <td>0.010416</td>\n",
       "      <td>0.232916</td>\n",
       "      <td>0.418474</td>\n",
       "      <td>0.458211</td>\n",
       "      <td>1.000000</td>\n",
       "      <td>0.499267</td>\n",
       "      <td>0.575536</td>\n",
       "      <td>0.589888</td>\n",
       "      <td>0.145710</td>\n",
       "    </tr>\n",
       "    <tr>\n",
       "      <th>tech_support</th>\n",
       "      <td>0.576525</td>\n",
       "      <td>0.549866</td>\n",
       "      <td>0.103652</td>\n",
       "      <td>0.404795</td>\n",
       "      <td>0.000000</td>\n",
       "      <td>0.092565</td>\n",
       "      <td>0.185993</td>\n",
       "      <td>0.096912</td>\n",
       "      <td>0.239663</td>\n",
       "      <td>0.528391</td>\n",
       "      <td>0.445130</td>\n",
       "      <td>0.499267</td>\n",
       "      <td>1.000000</td>\n",
       "      <td>0.422242</td>\n",
       "      <td>0.424078</td>\n",
       "      <td>0.098571</td>\n",
       "    </tr>\n",
       "    <tr>\n",
       "      <th>streaming_tv</th>\n",
       "      <td>0.835340</td>\n",
       "      <td>0.642144</td>\n",
       "      <td>0.200198</td>\n",
       "      <td>0.339313</td>\n",
       "      <td>0.000000</td>\n",
       "      <td>0.163120</td>\n",
       "      <td>0.193258</td>\n",
       "      <td>0.017331</td>\n",
       "      <td>0.272818</td>\n",
       "      <td>0.272186</td>\n",
       "      <td>0.428007</td>\n",
       "      <td>0.575536</td>\n",
       "      <td>0.422242</td>\n",
       "      <td>1.000000</td>\n",
       "      <td>0.742479</td>\n",
       "      <td>0.166899</td>\n",
       "    </tr>\n",
       "    <tr>\n",
       "      <th>streaming_movies</th>\n",
       "      <td>0.833307</td>\n",
       "      <td>0.644671</td>\n",
       "      <td>0.222232</td>\n",
       "      <td>0.339313</td>\n",
       "      <td>0.000000</td>\n",
       "      <td>0.186141</td>\n",
       "      <td>0.182011</td>\n",
       "      <td>0.058999</td>\n",
       "      <td>0.272782</td>\n",
       "      <td>0.289097</td>\n",
       "      <td>0.417170</td>\n",
       "      <td>0.589888</td>\n",
       "      <td>0.424078</td>\n",
       "      <td>0.742479</td>\n",
       "      <td>1.000000</td>\n",
       "      <td>0.170432</td>\n",
       "    </tr>\n",
       "    <tr>\n",
       "      <th>multiple_lines</th>\n",
       "      <td>0.709983</td>\n",
       "      <td>0.467339</td>\n",
       "      <td>0.105101</td>\n",
       "      <td>0.347289</td>\n",
       "      <td>0.000000</td>\n",
       "      <td>0.087925</td>\n",
       "      <td>0.086249</td>\n",
       "      <td>0.011198</td>\n",
       "      <td>0.739808</td>\n",
       "      <td>0.095572</td>\n",
       "      <td>0.140081</td>\n",
       "      <td>0.145710</td>\n",
       "      <td>0.098571</td>\n",
       "      <td>0.166899</td>\n",
       "      <td>0.170432</td>\n",
       "      <td>1.000000</td>\n",
       "    </tr>\n",
       "  </tbody>\n",
       "</table>\n",
       "</div>"
      ],
      "text/plain": [
       "                   monthly_charges  total_charges  former_client  day_used  \\\n",
       "monthly_charges           1.000000       0.711029       0.226280  0.387727   \n",
       "total_charges             0.711029       1.000000       0.304287  0.847414   \n",
       "former_client             0.226280       0.304287       1.000000  0.374569   \n",
       "day_used                  0.387727       0.847414       0.374569  1.000000   \n",
       "gender                    0.008175       0.000000       0.008581  0.000000   \n",
       "senior_citizen            0.304985       0.137707       0.086159  0.063315   \n",
       "partner                   0.203545       0.381042       0.226688  0.453688   \n",
       "dependents                0.184366       0.082134       0.046871  0.198729   \n",
       "internet_service          0.919002       0.489674       0.056621  0.060845   \n",
       "online_security           0.551621       0.521522       0.132594  0.395693   \n",
       "online_backup             0.629541       0.622643       0.229482  0.414982   \n",
       "device_protection         0.667481       0.641455       0.218380  0.426931   \n",
       "tech_support              0.576525       0.549866       0.103652  0.404795   \n",
       "streaming_tv              0.835340       0.642144       0.200198  0.339313   \n",
       "streaming_movies          0.833307       0.644671       0.222232  0.339313   \n",
       "multiple_lines            0.709983       0.467339       0.105101  0.347289   \n",
       "\n",
       "                     gender  senior_citizen   partner  dependents  \\\n",
       "monthly_charges    0.008175        0.304985  0.203545    0.184366   \n",
       "total_charges      0.000000        0.137707  0.381042    0.082134   \n",
       "former_client      0.008581        0.086159  0.226688    0.046871   \n",
       "day_used           0.000000        0.063315  0.453688    0.198729   \n",
       "gender             1.000000        0.000000  0.000000    0.000000   \n",
       "senior_citizen     0.000000        1.000000  0.016992    0.324576   \n",
       "partner            0.000000        0.016992  1.000000    0.652122   \n",
       "dependents         0.000000        0.324576  0.652122    1.000000   \n",
       "internet_service   0.000000        0.160702  0.000000    0.108463   \n",
       "online_security    0.018397        0.057028  0.221673    0.124945   \n",
       "online_backup      0.009882        0.102065  0.219223    0.031533   \n",
       "device_protection  0.000000        0.090686  0.238079    0.010416   \n",
       "tech_support       0.000000        0.092565  0.185993    0.096912   \n",
       "streaming_tv       0.000000        0.163120  0.193258    0.017331   \n",
       "streaming_movies   0.000000        0.186141  0.182011    0.058999   \n",
       "multiple_lines     0.000000        0.087925  0.086249    0.011198   \n",
       "\n",
       "                   internet_service  online_security  online_backup  \\\n",
       "monthly_charges            0.919002         0.551621       0.629541   \n",
       "total_charges              0.489674         0.521522       0.622643   \n",
       "former_client              0.056621         0.132594       0.229482   \n",
       "day_used                   0.060845         0.395693       0.414982   \n",
       "gender                     0.000000         0.018397       0.009882   \n",
       "senior_citizen             0.160702         0.057028       0.102065   \n",
       "partner                    0.000000         0.221673       0.219223   \n",
       "dependents                 0.108463         0.124945       0.031533   \n",
       "internet_service           1.000000         0.241421       0.233602   \n",
       "online_security            0.241421         1.000000       0.430425   \n",
       "online_backup              0.233602         0.430425       1.000000   \n",
       "device_protection          0.232916         0.418474       0.458211   \n",
       "tech_support               0.239663         0.528391       0.445130   \n",
       "streaming_tv               0.272818         0.272186       0.428007   \n",
       "streaming_movies           0.272782         0.289097       0.417170   \n",
       "multiple_lines             0.739808         0.095572       0.140081   \n",
       "\n",
       "                   device_protection  tech_support  streaming_tv  \\\n",
       "monthly_charges             0.667481      0.576525      0.835340   \n",
       "total_charges               0.641455      0.549866      0.642144   \n",
       "former_client               0.218380      0.103652      0.200198   \n",
       "day_used                    0.426931      0.404795      0.339313   \n",
       "gender                      0.000000      0.000000      0.000000   \n",
       "senior_citizen              0.090686      0.092565      0.163120   \n",
       "partner                     0.238079      0.185993      0.193258   \n",
       "dependents                  0.010416      0.096912      0.017331   \n",
       "internet_service            0.232916      0.239663      0.272818   \n",
       "online_security             0.418474      0.528391      0.272186   \n",
       "online_backup               0.458211      0.445130      0.428007   \n",
       "device_protection           1.000000      0.499267      0.575536   \n",
       "tech_support                0.499267      1.000000      0.422242   \n",
       "streaming_tv                0.575536      0.422242      1.000000   \n",
       "streaming_movies            0.589888      0.424078      0.742479   \n",
       "multiple_lines              0.145710      0.098571      0.166899   \n",
       "\n",
       "                   streaming_movies  multiple_lines  \n",
       "monthly_charges            0.833307        0.709983  \n",
       "total_charges              0.644671        0.467339  \n",
       "former_client              0.222232        0.105101  \n",
       "day_used                   0.339313        0.347289  \n",
       "gender                     0.000000        0.000000  \n",
       "senior_citizen             0.186141        0.087925  \n",
       "partner                    0.182011        0.086249  \n",
       "dependents                 0.058999        0.011198  \n",
       "internet_service           0.272782        0.739808  \n",
       "online_security            0.289097        0.095572  \n",
       "online_backup              0.417170        0.140081  \n",
       "device_protection          0.589888        0.145710  \n",
       "tech_support               0.424078        0.098571  \n",
       "streaming_tv               0.742479        0.166899  \n",
       "streaming_movies           1.000000        0.170432  \n",
       "multiple_lines             0.170432        1.000000  "
      ]
     },
     "execution_count": 57,
     "metadata": {},
     "output_type": "execute_result"
    }
   ],
   "source": [
    "corr_mtx"
   ]
  },
  {
   "cell_type": "markdown",
   "id": "9818d084-c22b-49d3-82dd-f5f1be8cfedf",
   "metadata": {},
   "source": [
    "Есть несколько признаков, которые имеют \"сильную\" и даже \"очень сильную\" корреляцию, но мы не будем предпринимать дополнительных мер по устранению возможной коллениарности в данных и обучим три модели. Если мы не достигнем порогового значения для целевой метрики, тогда вернемся к этой теме. "
   ]
  },
  {
   "cell_type": "markdown",
   "id": "a9f16e2d-c6d6-405c-8197-e9bedb8d015c",
   "metadata": {},
   "source": [
    "## Деление на выборки"
   ]
  },
  {
   "cell_type": "markdown",
   "id": "20e0cad1-9ba6-4eda-a7cf-f2b0c8fe74ca",
   "metadata": {},
   "source": [
    "Выделим целевой признак и остальные признаки в отдельные датасеты, удалив признак 'customer_id':"
   ]
  },
  {
   "cell_type": "code",
   "execution_count": 59,
   "id": "640b0513-cdfc-480c-817d-43d852711eea",
   "metadata": {},
   "outputs": [],
   "source": [
    "df_target = df['former_client']\n",
    "df_features = df.drop(columns=['customer_id', 'former_client'])"
   ]
  },
  {
   "cell_type": "code",
   "execution_count": 60,
   "id": "0938f1c4-3513-497e-a03a-071a7b3d68cc",
   "metadata": {
    "tags": []
   },
   "outputs": [],
   "source": [
    "x_train, x_test, y_train, y_test = train_test_split(df_features, df_target, test_size=.25, random_state=RANDOM_STATE, stratify=df_target)\n",
    "\n",
    "# сюда пишем результаты обучения моделей\n",
    "d_models = {}\n",
    "\n",
    "sklearn.set_config(display='diagram')"
   ]
  },
  {
   "cell_type": "markdown",
   "id": "a4a8646c",
   "metadata": {},
   "source": [
    "## Обучение моделей\n",
    "\n",
    "Обучим модели на основе классов LogisticRegression, RandomForestClassifier, CatBoostClassifier"
   ]
  },
  {
   "cell_type": "markdown",
   "id": "65e84223-8c94-4baa-a818-f8d829668a7c",
   "metadata": {},
   "source": [
    "### Модель LogisticRegression"
   ]
  },
  {
   "cell_type": "code",
   "execution_count": 61,
   "id": "b10984aa-fdcd-46db-be47-a2672a18ac3c",
   "metadata": {},
   "outputs": [
    {
     "name": "stdout",
     "output_type": "stream",
     "text": [
      "CPU times: user 3 µs, sys: 0 ns, total: 3 µs\n",
      "Wall time: 7.63 µs\n",
      "LogisticRegression. roc_auc = 0.732635258400876\n",
      "LogisticRegression. Лучшие параметры: {'est__C': 1}\n"
     ]
    }
   ],
   "source": [
    "%time\n",
    "params = {'est__C':[0.001, 0.005, 0.01, 0.05, 0.1, 0.5, 1, 5, 10]}\n",
    "\n",
    "scaler = StandardScaler()\n",
    "ohe = OneHotEncoder(drop='first', sparse=False)\n",
    "\n",
    "preprocessor = ColumnTransformer(\n",
    "    transformers= [\n",
    "        ('scaler', scaler, l_num_cols),\n",
    "        ('onehot', ohe, l_cat_cols)\n",
    "    ],\n",
    "    remainder='passthrough',\n",
    ")\n",
    "\n",
    "est = LogisticRegression(random_state=RANDOM_STATE)\n",
    "pipe = Pipeline(steps=[('prep', preprocessor), ('est', est)])\n",
    "\n",
    "logreg = HalvingGridSearchCV(estimator=pipe, param_grid=params, cv=3, scoring='roc_auc', n_jobs=-1, \n",
    "                             verbose=0, random_state=RANDOM_STATE)\n",
    "logreg.fit(x_train, y_train)\n",
    "\n",
    "model_name = 'LogisticRegression'\n",
    "d_models[model_name] = logreg.best_score_\n",
    "print(f'{model_name}. roc_auc = {logreg.best_score_}')\n",
    "print(f'{model_name}. Лучшие параметры: {logreg.best_params_}')"
   ]
  },
  {
   "cell_type": "markdown",
   "id": "1c721a83-635b-4f03-aa40-f1076285b232",
   "metadata": {},
   "source": [
    "### Модель RandomForestClassifier"
   ]
  },
  {
   "cell_type": "code",
   "execution_count": 62,
   "id": "6fe47787-2c51-4020-858e-bc26894481ba",
   "metadata": {},
   "outputs": [
    {
     "name": "stdout",
     "output_type": "stream",
     "text": [
      "RandomForestClassifier. roc_auc = 0.8092018032817748\n",
      "RandomForestClassifier. Лучшие параметры: {'est__max_depth': 5, 'est__max_features': None, 'est__n_estimators': 160}\n",
      "CPU times: user 3min 27s, sys: 1.99 s, total: 3min 29s\n",
      "Wall time: 3min 31s\n"
     ]
    }
   ],
   "source": [
    "%%time\n",
    "params = {'est__n_estimators': list(range(60, 210, 20)),\n",
    "         'est__max_depth': list(range(1, 7)) ,\n",
    "         'est__max_features': ('sqrt', 'log2', None),\n",
    "        }    \n",
    "\n",
    "ohe = OneHotEncoder(drop=None, sparse=False, handle_unknown='ignore')\n",
    "\n",
    "preprocessor = ColumnTransformer(transformers= [('onehot', ohe, l_cat_cols)], remainder='passthrough')\n",
    "\n",
    "est = RandomForestClassifier(random_state=RANDOM_STATE)\n",
    "pipe = Pipeline(steps=[('prep', preprocessor), ('est', est)])\n",
    "\n",
    "rf = HalvingGridSearchCV(estimator=pipe, param_grid=params, cv=5, scoring='roc_auc', n_jobs=-1, \n",
    "                         verbose=0, random_state=RANDOM_STATE)\n",
    "rf.fit(x_train, y_train)\n",
    "\n",
    "model_name = 'RandomForestClassifier'\n",
    "d_models[model_name] = rf.best_score_\n",
    "print(f'{model_name}. roc_auc = {rf.best_score_}')\n",
    "print(f'{model_name}. Лучшие параметры: {rf.best_params_}')"
   ]
  },
  {
   "cell_type": "markdown",
   "id": "a3149b47-6cd7-46d3-a88b-47cdd72559fe",
   "metadata": {},
   "source": [
    "### Модель CatBoostClassifier"
   ]
  },
  {
   "cell_type": "code",
   "execution_count": 63,
   "id": "a2ca1683-696c-468a-9016-18f95b5774dd",
   "metadata": {
    "scrolled": true
   },
   "outputs": [
    {
     "name": "stdout",
     "output_type": "stream",
     "text": [
      "CPU times: user 4 µs, sys: 0 ns, total: 4 µs\n",
      "Wall time: 7.63 µs\n",
      "CatBoostClassifier. roc_auc = 0.9081097351970401\n",
      "CatBoostClassifier. Лучшие параметры: {'depth': 4, 'iterations': 500, 'l2_leaf_reg': 1, 'learning_rate': 0.1}\n"
     ]
    }
   ],
   "source": [
    "%time\n",
    "\n",
    "params = {'iterations': [250, 500, ],\n",
    "          'learning_rate': [0.03, 0.1],\n",
    "          'depth': [4, 6, ],\n",
    "          'l2_leaf_reg': [1, 3,]}\n",
    "\n",
    "cat = CatBoostClassifier(eval_metric='AUC', verbose=0, random_state=RANDOM_STATE, cat_features=l_cat_cols)\n",
    "\n",
    "grid_cat = HalvingGridSearchCV(cat, params, scoring='roc_auc', cv=5, random_state=RANDOM_STATE)\n",
    "\n",
    "grid_cat.fit(x_train, y_train)\n",
    "\n",
    "model_name = 'CatBoostClassifier'\n",
    "d_models[model_name] = grid_cat.best_score_\n",
    "print(f'{model_name}. roc_auc = {grid_cat.best_score_}')\n",
    "print(f'{model_name}. Лучшие параметры: {grid_cat.best_params_}')"
   ]
  },
  {
   "cell_type": "markdown",
   "id": "4e034ffb-21f5-4b44-8234-32cddd45e691",
   "metadata": {},
   "source": [
    "## Тестирование лучшей модели\n",
    "\n",
    "Значение метрики `AUC ROC`, которые модели достигли во время  кросс-валидации следующие:"
   ]
  },
  {
   "cell_type": "code",
   "execution_count": 64,
   "id": "1205db6d-66b2-443e-9f01-81ed1f6e8a20",
   "metadata": {},
   "outputs": [
    {
     "data": {
      "text/plain": [
       "{'LogisticRegression': 0.732635258400876,\n",
       " 'RandomForestClassifier': 0.8092018032817748,\n",
       " 'CatBoostClassifier': 0.9081097351970401}"
      ]
     },
     "execution_count": 64,
     "metadata": {},
     "output_type": "execute_result"
    }
   ],
   "source": [
    "d_models"
   ]
  },
  {
   "cell_type": "markdown",
   "id": "a64b727c-3e0e-4b9c-949c-c79121025fe2",
   "metadata": {},
   "source": [
    "Лучшая модель - `CatBoostClassifier`. Вычислим на тестовой выборке целевую метрику и отобразим ROC:"
   ]
  },
  {
   "cell_type": "code",
   "execution_count": 65,
   "id": "24ceebff-9c58-41ae-884d-e8a9b9a40c88",
   "metadata": {},
   "outputs": [
    {
     "name": "stdout",
     "output_type": "stream",
     "text": [
      "AUC ROC = 0.9267466046739262\n"
     ]
    },
    {
     "data": {
      "image/png": "[encoded data removed]",
      "text/plain": [
       "<Figure size 432x288 with 1 Axes>"
      ]
     },
     "metadata": {
      "needs_background": "light"
     },
     "output_type": "display_data"
    }
   ],
   "source": [
    "model_name = 'CatBoostClassifier'\n",
    "proba = grid_cat.predict_proba(x_test)\n",
    "auc_roc = roc_auc_score(y_test, proba[:, 1])\n",
    "print('AUC ROC =', auc_roc)\n",
    "\n",
    "fpr_roc, tpr_roc, ths_roc = roc_curve(y_test, proba[:, 1])\n",
    "plt.plot(fpr_roc, tpr_roc)\n",
    "plt.title(f'{model_name}. AUC-ROC={auc_roc:.2})')\n",
    "plt.xlabel('FPR')\n",
    "plt.ylabel('TPR')\n",
    "plt.ylim([0.0, 1.05])\n",
    "plt.xlim([-0.01, 1.0])\n",
    "plt.grid()\n",
    "plt.show()"
   ]
  },
  {
   "cell_type": "code",
   "execution_count": null,
   "id": "fe140665-487d-45e2-ba81-99eb69a8d4b1",
   "metadata": {},
   "outputs": [],
   "source": [
    "predict_test = grid_cat.predict(x_test)\n",
    "print('Classification report:')\n",
    "print(classification_report(y_test, predict_test))\n",
    "print('\\nConfusion matrix:')\n",
    "\n",
    "cm = confusion_matrix(y_test, predict_test, labels=cat.classes_)\n",
    "ConfusionMatrixDisplay(confusion_matrix=cm, display_labels=cat.classes_).plot();"
   ]
  },
  {
   "cell_type": "markdown",
   "id": "9814a94c-b7ca-4e54-a837-49a7d39a0a31",
   "metadata": {},
   "source": [
    "Задача любой компании - зарабатывать деньги, а для этого нужно увеличивать (и уж точно не уменьшать) кол-во пользователей услуг/товаров.\n",
    "Наша лучшая модель на текущий момент смогла опознать только 59% из всех \"уходящих\". Улучшить точность определения \"уходящих\" можно изменив порог деления на классы.\n",
    "\n",
    "## Важность признаков"
   ]
  },
  {
   "cell_type": "code",
   "execution_count": 67,
   "id": "f8ca9ab2-6eb9-422d-8efb-c1ef854b8616",
   "metadata": {},
   "outputs": [
    {
     "data": {
      "image/png": "[encoded data removed]",
      "text/plain": [
       "<Figure size 720x360 with 1 Axes>"
      ]
     },
     "metadata": {
      "needs_background": "light"
     },
     "output_type": "display_data"
    }
   ],
   "source": [
    "# https://stackoverflow.com/questions/64988694/how-can-i-get-the-feature-importance-of-a-catboost-in-a-pandas-dataframe\n",
    "def plot_feature_importance(importance,names,model_type):\n",
    "    \n",
    "    #Create arrays from feature importance and feature names\n",
    "    feature_importance = np.array(importance)\n",
    "    feature_names = np.array(names)\n",
    "    \n",
    "    #Create a DataFrame using a Dictionary\n",
    "    data={'feature_names':feature_names,'feature_importance':feature_importance}\n",
    "    fi_df = pd.DataFrame(data)\n",
    "    \n",
    "    #Sort the DataFrame in order decreasing feature importance\n",
    "    fi_df.sort_values(by=['feature_importance'], ascending=False,inplace=True)\n",
    "    \n",
    "    #Define size of bar plot\n",
    "    plt.figure(figsize=(10, 5))\n",
    "    #Plot Searborn bar chart\n",
    "    sns.barplot(x=fi_df['feature_importance'], y=fi_df['feature_names'])\n",
    "    #Add chart labels\n",
    "    plt.title(model_type + 'FEATURE IMPORTANCE')\n",
    "    plt.xlabel('FEATURE IMPORTANCE')\n",
    "    plt.ylabel('FEATURE NAMES')\n",
    "    \n",
    "plot_feature_importance(grid_cat.best_estimator_.get_feature_importance(), x_train.columns,'CATBOOST')"
   ]
  },
  {
   "cell_type": "markdown",
   "id": "f4c4624f-c996-453b-b415-fd527851d01d",
   "metadata": {},
   "source": [
    "Из диаграммы важности признаков нашего датасет можно сделать вывод, что для людей очень важна стабильность, которую хочется получать за меньшие деньги."
   ]
  },
  {
   "cell_type": "code",
   "execution_count": null,
   "id": "2363e25d-271f-4c11-8d79-9a8fcdbab1bc",
   "metadata": {},
   "outputs": [],
   "source": []
  },
  {
   "cell_type": "markdown",
   "id": "4ca4b49e-9418-4b87-9027-c2d89c99a865",
   "metadata": {},
   "source": [
    "## Вывод\n",
    "\n",
    "В рамках проекта нам было передано четыре фала, содержащих выгрузку данных о клиентах по состоянию на 01 февраля 2020 года. В файла указаны какими услугами пользуются наши клиенты, как долго, сколько они платят, а так же их пол, социальный статус, наличие детей, так же указана дата прекращения использования услуг компании клиентом.\n",
    "\n",
    "Файлы:\n",
    "- \"contract_new.csv\". \n",
    "\t- Признаки: \"customer_id\" (тип - \"object)\", \"monthly_charges\" (тип - \"float64)\", \"total_charges\" (тип - \"object)\", \"former_client\" (тип - \"int64)\", \"day_used\" (тип - \"int64)\"\n",
    "- \"personal_new.csv\". \n",
    "\t- Признаки: \"customer_id\" (тип - \"object)\", \"gender\" (тип - \"object)\", \"senior_citizen\" (тип - \"int64)\", \"partner\" (тип - \"object)\", \"dependents\" (тип - \"object)\"\n",
    "- \"internet_new.csv\". \n",
    "\t- Признаки: \"customer_id\" (тип - \"object)\", \"internet_service\" (тип - \"object)\", \"online_security\" (тип - \"object)\", \"online_backup\" (тип - \"object)\", \"device_protection\" (тип - \"object)\", \"tech_support\" (тип - \"object)\", \"streaming_tv\" (тип - \"object)\", \"streaming_movies\" (тип - \"object)\"\n",
    "- \"phone_new.csv\". \n",
    "\t- Признаки: \"customer_id\" (тип - \"object)\", \"multiple_lines\" (тип - \"object)\"\n",
    "\n",
    "Цель проекта: создать модель для предсказаний ухода клиента по этим данным. Целевая метрика `AUC ROC` >= 0.85\n",
    "\n",
    "При  изучении файлов было выявлено, то данные не сбалансированы - кол-во клиентов, который перестали пользоваться услугами ~16%, так же есть пустые данные.\n",
    "Для подготовки к обучению пустые данные в признаке `total_charges` были заполнены значениями из `monthly_charges` (меньше абон. платы платить нельзя), добавлен признак `day_used` (\"длительность пользования услугами\", если клиент действующий для него в качестве конечной даты использовалась дата выгрузки данных), так же был выделен целевой признак для обучения. Для уменьшения объема данных признаки `begin_data` и `end_date`. Данные были соединены в один датасет, из-за чего обрадовались пропуски в данных - их заполнили следующим образом:\n",
    "- 'NA' для признаков internet_service и multiple_lines, т.к. текущие значения в признаках определяют характеристики услуги, а не ее наличие/отсутствие. Значение NA добавит как разы смысл \"отсутствие услуги\"\n",
    "- 'No' для всех остальных признаков, т.к. они определяют наличие/отсутствие услуги, таким образом у нас после OHE не будет множится кол-во признаков.\n",
    "\n",
    "\n",
    "Затем рассчитана корреляция. Между некоторыми признаками обнаружена сильная корреляция, принято решение продолжить работы с  текущим набором данных.\n",
    "\n",
    "Итоговой набор признаков, на котором обучалась модель:\n",
    "- 'monthly_charges', 'total_charges', 'day_used', 'gender',  'senior_citizen', 'partner', 'dependents', 'internet_service', 'online_security', 'online_backup', 'device_protection', 'tech_support',  'streaming_tv', 'streaming_movies', 'multiple_lines'\n",
    "       \n",
    "Признаки `'monthly_charges', 'total_charges', 'day_used'` рассматривались как непрерывные числовые данные. \n",
    "\n",
    "Признаки `'gender', 'senior_citizen', 'partner', 'dependents', 'internet_service', 'online_security', 'online_backup', 'device_protection', 'tech_support', 'streaming_tv', 'streaming_movies', 'multiple_lines' `рассматривались в качестве категориальных не зависимо от типа данных.\n",
    "\n",
    "В качестве моделей выбраны моделей классов `LogisticRegression`, `RandomForestClassifier`, `CatBoostClassifier`. Для каждой модели был выбран набор гиперпараметров (для каждой модели свой). Подбор лучших значений производился с помощью кросс-валидации путем использования класса HalvingGridSearchCV.\n",
    "\n",
    "Во всех методах для параметра `random_state`, в случае его наличия, использовалась константа `RANDOM_STATE = 180723`.\n",
    "\n",
    "Были выбраны следующие гиперпараметры модели, которые подбирались:"
   ]
  },
  {
   "cell_type": "code",
   "execution_count": 68,
   "id": "fa566e60-b614-42e7-bbcf-7f72af8b828e",
   "metadata": {},
   "outputs": [
    {
     "data": {
      "text/plain": [
       "['iterations', 'learning_rate', 'depth', 'l2_leaf_reg']"
      ]
     },
     "execution_count": 68,
     "metadata": {},
     "output_type": "execute_result"
    }
   ],
   "source": [
    "list(params.keys())"
   ]
  },
  {
   "cell_type": "markdown",
   "id": "9138551f-8932-46ae-a051-fe9cebf7393e",
   "metadata": {},
   "source": [
    "Полный набор гиперпараметров лучшей модели после обучения:"
   ]
  },
  {
   "cell_type": "code",
   "execution_count": 69,
   "id": "4af6f985-f816-48bc-a0f6-eca3a602f5f7",
   "metadata": {},
   "outputs": [
    {
     "data": {
      "text/plain": [
       "{'nan_mode': 'Min',\n",
       " 'eval_metric': 'AUC',\n",
       " 'combinations_ctr': ['Borders:CtrBorderCount=15:CtrBorderType=Uniform:TargetBorderCount=1:TargetBorderType=MinEntropy:Prior=0/1:Prior=0.5/1:Prior=1/1',\n",
       "  'Counter:CtrBorderCount=15:CtrBorderType=Uniform:Prior=0/1'],\n",
       " 'iterations': 500,\n",
       " 'sampling_frequency': 'PerTree',\n",
       " 'fold_permutation_block': 0,\n",
       " 'leaf_estimation_method': 'Newton',\n",
       " 'counter_calc_method': 'SkipTest',\n",
       " 'grow_policy': 'SymmetricTree',\n",
       " 'penalties_coefficient': 1,\n",
       " 'boosting_type': 'Plain',\n",
       " 'model_shrink_mode': 'Constant',\n",
       " 'feature_border_type': 'GreedyLogSum',\n",
       " 'ctr_leaf_count_limit': 18446744073709551615,\n",
       " 'bayesian_matrix_reg': 0.10000000149011612,\n",
       " 'one_hot_max_size': 2,\n",
       " 'force_unit_auto_pair_weights': False,\n",
       " 'l2_leaf_reg': 1,\n",
       " 'random_strength': 1,\n",
       " 'rsm': 1,\n",
       " 'boost_from_average': False,\n",
       " 'max_ctr_complexity': 4,\n",
       " 'model_size_reg': 0.5,\n",
       " 'simple_ctr': ['Borders:CtrBorderCount=15:CtrBorderType=Uniform:TargetBorderCount=1:TargetBorderType=MinEntropy:Prior=0/1:Prior=0.5/1:Prior=1/1',\n",
       "  'Counter:CtrBorderCount=15:CtrBorderType=Uniform:Prior=0/1'],\n",
       " 'pool_metainfo_options': {'tags': {}},\n",
       " 'subsample': 0.800000011920929,\n",
       " 'use_best_model': False,\n",
       " 'class_names': [0, 1],\n",
       " 'random_seed': 180723,\n",
       " 'depth': 4,\n",
       " 'ctr_target_border_count': 1,\n",
       " 'posterior_sampling': False,\n",
       " 'has_time': False,\n",
       " 'store_all_simple_ctr': False,\n",
       " 'border_count': 254,\n",
       " 'classes_count': 0,\n",
       " 'auto_class_weights': 'None',\n",
       " 'sparse_features_conflict_fraction': 0,\n",
       " 'leaf_estimation_backtracking': 'AnyImprovement',\n",
       " 'best_model_min_trees': 1,\n",
       " 'model_shrink_rate': 0,\n",
       " 'min_data_in_leaf': 1,\n",
       " 'loss_function': 'Logloss',\n",
       " 'learning_rate': 0.10000000149011612,\n",
       " 'score_function': 'Cosine',\n",
       " 'task_type': 'CPU',\n",
       " 'leaf_estimation_iterations': 10,\n",
       " 'bootstrap_type': 'MVS',\n",
       " 'max_leaves': 16,\n",
       " 'permutation_count': 4}"
      ]
     },
     "execution_count": 69,
     "metadata": {},
     "output_type": "execute_result"
    }
   ],
   "source": [
    "grid_cat.best_estimator_.get_all_params()"
   ]
  },
  {
   "cell_type": "markdown",
   "id": "f302f84a-8daf-4822-9b60-c42498d45d46",
   "metadata": {},
   "source": [
    "На тестовой выборке модель `CatBoostClassifier` значение `AUC_ROC = 0.93` => значение целевой метрики, указанной заказчиком, достигнуто.\n",
    "\n",
    "Недостатком, на мой взгляд является низкое значение `TPR = 0.59`.  Необходим, при согласовании заказчика, продолжить работы с целью увеличения значения `TPR`."
   ]
  },
  {
   "cell_type": "code",
   "execution_count": null,
   "id": "71d8e944",
   "metadata": {},
   "outputs": [],
   "source": []
  }
 ],
 "metadata": {
  "ExecuteTimeLog": [
   {
    "duration": 1472,
    "start_time": "2023-07-18T13:34:39.404Z"
   },
   {
    "duration": 3,
    "start_time": "2023-07-18T13:34:40.878Z"
   },
   {
    "duration": 329,
    "start_time": "2023-07-18T13:34:42.483Z"
   },
   {
    "duration": 4,
    "start_time": "2023-07-18T13:35:00.583Z"
   },
   {
    "duration": 16,
    "start_time": "2023-07-18T13:35:01.378Z"
   },
   {
    "duration": 14,
    "start_time": "2023-07-18T13:35:27.973Z"
   },
   {
    "duration": 9,
    "start_time": "2023-07-18T13:35:28.198Z"
   },
   {
    "duration": 5567,
    "start_time": "2023-07-21T14:11:13.253Z"
   },
   {
    "duration": 4,
    "start_time": "2023-07-21T14:11:18.822Z"
   },
   {
    "duration": 14,
    "start_time": "2023-07-21T14:11:18.828Z"
   },
   {
    "duration": 389,
    "start_time": "2023-07-21T14:11:18.844Z"
   },
   {
    "duration": 2,
    "start_time": "2023-07-21T14:11:19.235Z"
   },
   {
    "duration": 24,
    "start_time": "2023-07-21T14:11:19.239Z"
   },
   {
    "duration": 17,
    "start_time": "2023-07-21T14:11:19.265Z"
   },
   {
    "duration": 20,
    "start_time": "2023-07-21T14:11:19.284Z"
   },
   {
    "duration": 15,
    "start_time": "2023-07-21T14:11:19.306Z"
   },
   {
    "duration": 16,
    "start_time": "2023-07-21T14:11:19.324Z"
   },
   {
    "duration": 16,
    "start_time": "2023-07-21T14:11:19.341Z"
   },
   {
    "duration": 9,
    "start_time": "2023-07-21T14:11:19.358Z"
   },
   {
    "duration": 6,
    "start_time": "2023-07-21T14:11:19.369Z"
   },
   {
    "duration": 176,
    "start_time": "2023-07-21T14:11:19.377Z"
   },
   {
    "duration": 9,
    "start_time": "2023-07-21T14:11:19.555Z"
   },
   {
    "duration": 34,
    "start_time": "2023-07-21T14:11:19.566Z"
   },
   {
    "duration": 14,
    "start_time": "2023-07-21T14:11:19.602Z"
   },
   {
    "duration": 27,
    "start_time": "2023-07-21T14:11:19.618Z"
   },
   {
    "duration": 257,
    "start_time": "2023-07-21T14:11:19.647Z"
   },
   {
    "duration": 1160,
    "start_time": "2023-07-21T14:11:19.906Z"
   },
   {
    "duration": 143,
    "start_time": "2023-07-21T14:11:21.068Z"
   },
   {
    "duration": 8,
    "start_time": "2023-07-21T14:11:21.213Z"
   },
   {
    "duration": 1062,
    "start_time": "2023-07-21T14:11:21.222Z"
   },
   {
    "duration": 7,
    "start_time": "2023-07-21T14:11:22.286Z"
   },
   {
    "duration": 266,
    "start_time": "2023-07-21T14:11:22.295Z"
   },
   {
    "duration": 4,
    "start_time": "2023-07-21T14:11:22.562Z"
   },
   {
    "duration": 35,
    "start_time": "2023-07-21T14:11:22.568Z"
   },
   {
    "duration": 24,
    "start_time": "2023-07-21T14:11:22.607Z"
   },
   {
    "duration": 37,
    "start_time": "2023-07-21T14:11:22.633Z"
   },
   {
    "duration": 134,
    "start_time": "2023-07-21T14:11:22.671Z"
   },
   {
    "duration": 36,
    "start_time": "2023-07-21T14:11:22.806Z"
   },
   {
    "duration": 53,
    "start_time": "2023-07-21T14:11:22.843Z"
   },
   {
    "duration": 71,
    "start_time": "2023-07-21T14:11:22.897Z"
   },
   {
    "duration": 40,
    "start_time": "2023-07-21T14:11:22.969Z"
   },
   {
    "duration": 46,
    "start_time": "2023-07-21T14:11:23.011Z"
   },
   {
    "duration": 27,
    "start_time": "2023-07-21T14:11:23.058Z"
   },
   {
    "duration": 17,
    "start_time": "2023-07-21T14:11:23.086Z"
   },
   {
    "duration": 20,
    "start_time": "2023-07-21T14:11:23.104Z"
   },
   {
    "duration": 31,
    "start_time": "2023-07-21T14:11:23.126Z"
   },
   {
    "duration": 36,
    "start_time": "2023-07-21T14:11:23.158Z"
   },
   {
    "duration": 42,
    "start_time": "2023-07-21T14:11:23.196Z"
   },
   {
    "duration": 17,
    "start_time": "2023-07-21T14:11:23.240Z"
   },
   {
    "duration": 42,
    "start_time": "2023-07-21T14:11:23.259Z"
   },
   {
    "duration": 54,
    "start_time": "2023-07-21T14:11:23.303Z"
   },
   {
    "duration": 23,
    "start_time": "2023-07-21T14:11:23.358Z"
   },
   {
    "duration": 32,
    "start_time": "2023-07-21T14:11:23.383Z"
   },
   {
    "duration": 39,
    "start_time": "2023-07-21T14:11:23.417Z"
   },
   {
    "duration": 24,
    "start_time": "2023-07-21T14:11:23.458Z"
   },
   {
    "duration": 34,
    "start_time": "2023-07-21T14:11:23.484Z"
   },
   {
    "duration": 24,
    "start_time": "2023-07-21T14:11:23.519Z"
   },
   {
    "duration": 50,
    "start_time": "2023-07-21T14:11:23.545Z"
   },
   {
    "duration": 7,
    "start_time": "2023-07-21T14:11:23.598Z"
   },
   {
    "duration": 27,
    "start_time": "2023-07-21T14:11:23.607Z"
   },
   {
    "duration": 50,
    "start_time": "2023-07-21T14:11:23.636Z"
   },
   {
    "duration": 9,
    "start_time": "2023-07-21T14:11:23.688Z"
   },
   {
    "duration": 2826,
    "start_time": "2023-07-21T14:11:23.699Z"
   },
   {
    "duration": 26,
    "start_time": "2023-07-21T14:11:26.526Z"
   },
   {
    "duration": 2066,
    "start_time": "2023-07-21T14:11:26.554Z"
   },
   {
    "duration": 11,
    "start_time": "2023-07-21T14:11:28.622Z"
   },
   {
    "duration": 56,
    "start_time": "2023-07-21T14:11:28.634Z"
   },
   {
    "duration": 25143,
    "start_time": "2023-07-21T14:11:28.692Z"
   },
   {
    "duration": 201631,
    "start_time": "2023-07-21T14:11:53.841Z"
   },
   {
    "duration": 432233,
    "start_time": "2023-07-21T14:15:15.474Z"
   },
   {
    "duration": 7,
    "start_time": "2023-07-21T14:22:27.709Z"
   },
   {
    "duration": 21,
    "start_time": "2023-07-21T14:22:27.717Z"
   },
   {
    "duration": 141,
    "start_time": "2023-07-21T14:22:27.739Z"
   },
   {
    "duration": 0,
    "start_time": "2023-07-21T14:22:27.881Z"
   },
   {
    "duration": 0,
    "start_time": "2023-07-21T14:22:27.883Z"
   },
   {
    "duration": 0,
    "start_time": "2023-07-21T14:22:27.884Z"
   },
   {
    "duration": 122,
    "start_time": "2023-07-21T14:25:08.462Z"
   },
   {
    "duration": 26,
    "start_time": "2023-07-21T14:25:10.649Z"
   },
   {
    "duration": 7,
    "start_time": "2023-07-21T14:25:29.987Z"
   },
   {
    "duration": 157,
    "start_time": "2023-07-21T14:25:38.424Z"
   },
   {
    "duration": 246,
    "start_time": "2023-07-21T14:25:41.721Z"
   },
   {
    "duration": 4,
    "start_time": "2023-07-21T14:25:46.504Z"
   },
   {
    "duration": 1557,
    "start_time": "2023-07-21T14:26:01.747Z"
   },
   {
    "duration": 3,
    "start_time": "2023-07-21T14:26:03.306Z"
   },
   {
    "duration": 36,
    "start_time": "2023-07-21T14:26:03.311Z"
   },
   {
    "duration": 131,
    "start_time": "2023-07-21T14:26:03.349Z"
   },
   {
    "duration": 3,
    "start_time": "2023-07-21T14:26:03.481Z"
   },
   {
    "duration": 25,
    "start_time": "2023-07-21T14:26:03.485Z"
   },
   {
    "duration": 21,
    "start_time": "2023-07-21T14:26:03.512Z"
   },
   {
    "duration": 30,
    "start_time": "2023-07-21T14:26:03.534Z"
   },
   {
    "duration": 6,
    "start_time": "2023-07-21T14:26:03.566Z"
   },
   {
    "duration": 19,
    "start_time": "2023-07-21T14:26:03.574Z"
   },
   {
    "duration": 29,
    "start_time": "2023-07-21T14:26:03.595Z"
   },
   {
    "duration": 20,
    "start_time": "2023-07-21T14:26:03.625Z"
   },
   {
    "duration": 18,
    "start_time": "2023-07-21T14:26:03.647Z"
   },
   {
    "duration": 190,
    "start_time": "2023-07-21T14:26:03.667Z"
   },
   {
    "duration": 9,
    "start_time": "2023-07-21T14:26:03.858Z"
   },
   {
    "duration": 23,
    "start_time": "2023-07-21T14:26:03.869Z"
   },
   {
    "duration": 12,
    "start_time": "2023-07-21T14:26:03.894Z"
   },
   {
    "duration": 41,
    "start_time": "2023-07-21T14:26:03.908Z"
   },
   {
    "duration": 159,
    "start_time": "2023-07-21T14:26:03.950Z"
   },
   {
    "duration": 1412,
    "start_time": "2023-07-21T14:26:04.111Z"
   },
   {
    "duration": 161,
    "start_time": "2023-07-21T14:26:05.525Z"
   },
   {
    "duration": 9,
    "start_time": "2023-07-21T14:26:05.688Z"
   },
   {
    "duration": 1099,
    "start_time": "2023-07-21T14:26:05.699Z"
   },
   {
    "duration": 7,
    "start_time": "2023-07-21T14:26:06.800Z"
   },
   {
    "duration": 249,
    "start_time": "2023-07-21T14:26:06.808Z"
   },
   {
    "duration": 4,
    "start_time": "2023-07-21T14:26:07.059Z"
   },
   {
    "duration": 12,
    "start_time": "2023-07-21T14:26:07.064Z"
   },
   {
    "duration": 20,
    "start_time": "2023-07-21T14:26:07.079Z"
   },
   {
    "duration": 15,
    "start_time": "2023-07-21T14:26:07.100Z"
   },
   {
    "duration": 76,
    "start_time": "2023-07-21T14:26:07.117Z"
   },
   {
    "duration": 14,
    "start_time": "2023-07-21T14:26:07.195Z"
   },
   {
    "duration": 18,
    "start_time": "2023-07-21T14:26:07.211Z"
   },
   {
    "duration": 38,
    "start_time": "2023-07-21T14:26:07.231Z"
   },
   {
    "duration": 33,
    "start_time": "2023-07-21T14:26:07.270Z"
   },
   {
    "duration": 10,
    "start_time": "2023-07-21T14:26:07.305Z"
   },
   {
    "duration": 7,
    "start_time": "2023-07-21T14:26:07.316Z"
   },
   {
    "duration": 72,
    "start_time": "2023-07-21T14:26:07.325Z"
   },
   {
    "duration": 75,
    "start_time": "2023-07-21T14:26:07.399Z"
   },
   {
    "duration": 16,
    "start_time": "2023-07-21T14:26:07.476Z"
   },
   {
    "duration": 18,
    "start_time": "2023-07-21T14:26:07.494Z"
   },
   {
    "duration": 11,
    "start_time": "2023-07-21T14:26:07.513Z"
   },
   {
    "duration": 23,
    "start_time": "2023-07-21T14:26:07.526Z"
   },
   {
    "duration": 14,
    "start_time": "2023-07-21T14:26:07.550Z"
   },
   {
    "duration": 35,
    "start_time": "2023-07-21T14:26:07.566Z"
   },
   {
    "duration": 3,
    "start_time": "2023-07-21T14:26:07.603Z"
   },
   {
    "duration": 105,
    "start_time": "2023-07-21T14:26:07.608Z"
   },
   {
    "duration": 104,
    "start_time": "2023-07-21T14:26:07.714Z"
   },
   {
    "duration": 27,
    "start_time": "2023-07-21T14:26:07.820Z"
   },
   {
    "duration": 21,
    "start_time": "2023-07-21T14:26:07.849Z"
   },
   {
    "duration": 14,
    "start_time": "2023-07-21T14:26:07.871Z"
   },
   {
    "duration": 61,
    "start_time": "2023-07-21T14:26:07.886Z"
   },
   {
    "duration": 8,
    "start_time": "2023-07-21T14:26:07.948Z"
   },
   {
    "duration": 27,
    "start_time": "2023-07-21T14:26:07.957Z"
   },
   {
    "duration": 25,
    "start_time": "2023-07-21T14:26:07.985Z"
   },
   {
    "duration": 3,
    "start_time": "2023-07-21T14:26:08.012Z"
   },
   {
    "duration": 158,
    "start_time": "2023-07-21T14:26:08.016Z"
   },
   {
    "duration": 0,
    "start_time": "2023-07-21T14:26:08.176Z"
   },
   {
    "duration": 0,
    "start_time": "2023-07-21T14:26:08.177Z"
   },
   {
    "duration": 0,
    "start_time": "2023-07-21T14:26:08.178Z"
   },
   {
    "duration": 0,
    "start_time": "2023-07-21T14:26:08.179Z"
   },
   {
    "duration": 0,
    "start_time": "2023-07-21T14:26:08.180Z"
   },
   {
    "duration": 0,
    "start_time": "2023-07-21T14:26:08.181Z"
   },
   {
    "duration": 0,
    "start_time": "2023-07-21T14:26:08.183Z"
   },
   {
    "duration": 0,
    "start_time": "2023-07-21T14:26:08.184Z"
   },
   {
    "duration": 0,
    "start_time": "2023-07-21T14:26:08.185Z"
   },
   {
    "duration": 0,
    "start_time": "2023-07-21T14:26:08.186Z"
   },
   {
    "duration": 0,
    "start_time": "2023-07-21T14:26:08.187Z"
   },
   {
    "duration": 0,
    "start_time": "2023-07-21T14:26:08.188Z"
   },
   {
    "duration": 0,
    "start_time": "2023-07-21T14:26:08.189Z"
   },
   {
    "duration": 1624,
    "start_time": "2023-07-21T14:26:17.216Z"
   },
   {
    "duration": 5,
    "start_time": "2023-07-21T14:26:18.844Z"
   },
   {
    "duration": 69,
    "start_time": "2023-07-21T14:26:18.851Z"
   },
   {
    "duration": 216,
    "start_time": "2023-07-21T14:26:18.923Z"
   },
   {
    "duration": 3,
    "start_time": "2023-07-21T14:26:19.141Z"
   },
   {
    "duration": 15,
    "start_time": "2023-07-21T14:26:19.147Z"
   },
   {
    "duration": 20,
    "start_time": "2023-07-21T14:26:19.163Z"
   },
   {
    "duration": 22,
    "start_time": "2023-07-21T14:26:19.184Z"
   },
   {
    "duration": 6,
    "start_time": "2023-07-21T14:26:19.208Z"
   },
   {
    "duration": 29,
    "start_time": "2023-07-21T14:26:19.218Z"
   },
   {
    "duration": 12,
    "start_time": "2023-07-21T14:26:19.249Z"
   },
   {
    "duration": 7,
    "start_time": "2023-07-21T14:26:19.262Z"
   },
   {
    "duration": 7,
    "start_time": "2023-07-21T14:26:19.270Z"
   },
   {
    "duration": 169,
    "start_time": "2023-07-21T14:26:19.278Z"
   },
   {
    "duration": 8,
    "start_time": "2023-07-21T14:26:19.449Z"
   },
   {
    "duration": 156,
    "start_time": "2023-07-21T14:26:19.458Z"
   },
   {
    "duration": 22,
    "start_time": "2023-07-21T14:26:19.616Z"
   },
   {
    "duration": 40,
    "start_time": "2023-07-21T14:26:19.641Z"
   },
   {
    "duration": 177,
    "start_time": "2023-07-21T14:26:19.683Z"
   },
   {
    "duration": 1281,
    "start_time": "2023-07-21T14:26:19.862Z"
   },
   {
    "duration": 149,
    "start_time": "2023-07-21T14:26:21.144Z"
   },
   {
    "duration": 8,
    "start_time": "2023-07-21T14:26:21.295Z"
   },
   {
    "duration": 1069,
    "start_time": "2023-07-21T14:26:21.304Z"
   },
   {
    "duration": 7,
    "start_time": "2023-07-21T14:26:22.375Z"
   },
   {
    "duration": 257,
    "start_time": "2023-07-21T14:26:22.383Z"
   },
   {
    "duration": 5,
    "start_time": "2023-07-21T14:26:22.649Z"
   },
   {
    "duration": 14,
    "start_time": "2023-07-21T14:26:22.655Z"
   },
   {
    "duration": 7,
    "start_time": "2023-07-21T14:26:22.673Z"
   },
   {
    "duration": 8,
    "start_time": "2023-07-21T14:26:22.681Z"
   },
   {
    "duration": 7,
    "start_time": "2023-07-21T14:26:22.691Z"
   },
   {
    "duration": 10,
    "start_time": "2023-07-21T14:26:22.700Z"
   },
   {
    "duration": 33,
    "start_time": "2023-07-21T14:26:22.712Z"
   },
   {
    "duration": 23,
    "start_time": "2023-07-21T14:26:22.748Z"
   },
   {
    "duration": 15,
    "start_time": "2023-07-21T14:26:22.772Z"
   },
   {
    "duration": 17,
    "start_time": "2023-07-21T14:26:22.788Z"
   },
   {
    "duration": 29,
    "start_time": "2023-07-21T14:26:22.807Z"
   },
   {
    "duration": 36,
    "start_time": "2023-07-21T14:26:22.838Z"
   },
   {
    "duration": 34,
    "start_time": "2023-07-21T14:26:22.876Z"
   },
   {
    "duration": 26,
    "start_time": "2023-07-21T14:26:22.912Z"
   },
   {
    "duration": 66,
    "start_time": "2023-07-21T14:26:22.939Z"
   },
   {
    "duration": 30,
    "start_time": "2023-07-21T14:26:23.006Z"
   },
   {
    "duration": 12,
    "start_time": "2023-07-21T14:26:23.041Z"
   },
   {
    "duration": 21,
    "start_time": "2023-07-21T14:26:23.054Z"
   },
   {
    "duration": 38,
    "start_time": "2023-07-21T14:26:23.076Z"
   },
   {
    "duration": 4,
    "start_time": "2023-07-21T14:26:23.115Z"
   },
   {
    "duration": 17,
    "start_time": "2023-07-21T14:26:23.120Z"
   },
   {
    "duration": 14,
    "start_time": "2023-07-21T14:26:23.139Z"
   },
   {
    "duration": 8,
    "start_time": "2023-07-21T14:26:23.155Z"
   },
   {
    "duration": 33,
    "start_time": "2023-07-21T14:26:23.164Z"
   },
   {
    "duration": 13,
    "start_time": "2023-07-21T14:26:23.199Z"
   },
   {
    "duration": 39,
    "start_time": "2023-07-21T14:26:23.214Z"
   },
   {
    "duration": 7,
    "start_time": "2023-07-21T14:26:23.254Z"
   },
   {
    "duration": 21,
    "start_time": "2023-07-21T14:26:23.262Z"
   },
   {
    "duration": 22,
    "start_time": "2023-07-21T14:26:23.285Z"
   },
   {
    "duration": 3,
    "start_time": "2023-07-21T14:26:23.308Z"
   },
   {
    "duration": 2837,
    "start_time": "2023-07-21T14:26:23.312Z"
   },
   {
    "duration": 20,
    "start_time": "2023-07-21T14:26:26.150Z"
   },
   {
    "duration": 2067,
    "start_time": "2023-07-21T14:26:26.172Z"
   },
   {
    "duration": 7,
    "start_time": "2023-07-21T14:26:28.240Z"
   },
   {
    "duration": 21,
    "start_time": "2023-07-21T14:26:28.249Z"
   },
   {
    "duration": 48062,
    "start_time": "2023-07-21T14:26:28.272Z"
   },
   {
    "duration": 213579,
    "start_time": "2023-07-21T14:27:16.341Z"
   },
   {
    "duration": 450068,
    "start_time": "2023-07-21T14:30:49.922Z"
   },
   {
    "duration": 6,
    "start_time": "2023-07-21T14:38:19.992Z"
   },
   {
    "duration": 25,
    "start_time": "2023-07-21T14:38:20.000Z"
   },
   {
    "duration": 146,
    "start_time": "2023-07-21T14:38:20.026Z"
   },
   {
    "duration": 168,
    "start_time": "2023-07-21T14:38:20.173Z"
   },
   {
    "duration": 242,
    "start_time": "2023-07-21T14:38:20.345Z"
   },
   {
    "duration": 5,
    "start_time": "2023-07-21T14:38:20.589Z"
   },
   {
    "duration": 5853,
    "start_time": "2023-07-22T15:16:55.696Z"
   },
   {
    "duration": 7,
    "start_time": "2023-07-22T15:17:01.551Z"
   },
   {
    "duration": 39,
    "start_time": "2023-07-22T15:17:01.560Z"
   },
   {
    "duration": 486,
    "start_time": "2023-07-22T15:17:01.602Z"
   },
   {
    "duration": 4,
    "start_time": "2023-07-22T15:17:02.090Z"
   },
   {
    "duration": 60,
    "start_time": "2023-07-22T15:17:02.096Z"
   },
   {
    "duration": 38,
    "start_time": "2023-07-22T15:17:02.158Z"
   },
   {
    "duration": 48,
    "start_time": "2023-07-22T15:17:02.201Z"
   },
   {
    "duration": 45,
    "start_time": "2023-07-22T15:17:02.251Z"
   },
   {
    "duration": 31,
    "start_time": "2023-07-22T15:17:02.301Z"
   },
   {
    "duration": 54,
    "start_time": "2023-07-22T15:17:02.334Z"
   },
   {
    "duration": 49,
    "start_time": "2023-07-22T15:17:02.390Z"
   },
   {
    "duration": 74,
    "start_time": "2023-07-22T15:17:02.441Z"
   },
   {
    "duration": 307,
    "start_time": "2023-07-22T15:17:02.517Z"
   },
   {
    "duration": 8,
    "start_time": "2023-07-22T15:17:02.826Z"
   },
   {
    "duration": 34,
    "start_time": "2023-07-22T15:17:02.836Z"
   },
   {
    "duration": 54,
    "start_time": "2023-07-22T15:17:02.874Z"
   },
   {
    "duration": 21,
    "start_time": "2023-07-22T15:17:02.929Z"
   },
   {
    "duration": 214,
    "start_time": "2023-07-22T15:17:02.952Z"
   },
   {
    "duration": 1594,
    "start_time": "2023-07-22T15:17:03.168Z"
   },
   {
    "duration": 224,
    "start_time": "2023-07-22T15:17:04.773Z"
   },
   {
    "duration": 14,
    "start_time": "2023-07-22T15:17:05.002Z"
   },
   {
    "duration": 1291,
    "start_time": "2023-07-22T15:17:05.018Z"
   },
   {
    "duration": 10,
    "start_time": "2023-07-22T15:17:06.311Z"
   },
   {
    "duration": 305,
    "start_time": "2023-07-22T15:17:06.323Z"
   },
   {
    "duration": 5,
    "start_time": "2023-07-22T15:17:06.629Z"
   },
   {
    "duration": 8,
    "start_time": "2023-07-22T15:17:06.635Z"
   },
   {
    "duration": 28,
    "start_time": "2023-07-22T15:17:06.646Z"
   },
   {
    "duration": 10,
    "start_time": "2023-07-22T15:17:06.682Z"
   },
   {
    "duration": 13,
    "start_time": "2023-07-22T15:17:06.694Z"
   },
   {
    "duration": 6,
    "start_time": "2023-07-22T15:17:06.709Z"
   },
   {
    "duration": 32,
    "start_time": "2023-07-22T15:17:06.717Z"
   },
   {
    "duration": 26,
    "start_time": "2023-07-22T15:17:06.751Z"
   },
   {
    "duration": 20,
    "start_time": "2023-07-22T15:17:06.779Z"
   },
   {
    "duration": 18,
    "start_time": "2023-07-22T15:17:06.801Z"
   },
   {
    "duration": 23,
    "start_time": "2023-07-22T15:17:06.821Z"
   },
   {
    "duration": 22,
    "start_time": "2023-07-22T15:17:06.846Z"
   },
   {
    "duration": 10,
    "start_time": "2023-07-22T15:17:06.870Z"
   },
   {
    "duration": 5,
    "start_time": "2023-07-22T15:17:06.882Z"
   },
   {
    "duration": 22,
    "start_time": "2023-07-22T15:17:06.890Z"
   },
   {
    "duration": 11,
    "start_time": "2023-07-22T15:17:06.915Z"
   },
   {
    "duration": 42,
    "start_time": "2023-07-22T15:17:06.928Z"
   },
   {
    "duration": 22,
    "start_time": "2023-07-22T15:17:06.972Z"
   },
   {
    "duration": 32,
    "start_time": "2023-07-22T15:17:06.997Z"
   },
   {
    "duration": 4,
    "start_time": "2023-07-22T15:17:07.032Z"
   },
   {
    "duration": 41,
    "start_time": "2023-07-22T15:17:07.038Z"
   },
   {
    "duration": 13,
    "start_time": "2023-07-22T15:17:07.084Z"
   },
   {
    "duration": 21,
    "start_time": "2023-07-22T15:17:07.098Z"
   },
   {
    "duration": 9,
    "start_time": "2023-07-22T15:17:07.121Z"
   },
   {
    "duration": 7,
    "start_time": "2023-07-22T15:17:07.131Z"
   },
   {
    "duration": 53,
    "start_time": "2023-07-22T15:17:07.140Z"
   },
   {
    "duration": 9,
    "start_time": "2023-07-22T15:17:07.196Z"
   },
   {
    "duration": 25,
    "start_time": "2023-07-22T15:17:07.211Z"
   },
   {
    "duration": 61,
    "start_time": "2023-07-22T15:17:07.238Z"
   },
   {
    "duration": 4,
    "start_time": "2023-07-22T15:17:07.302Z"
   },
   {
    "duration": 2940,
    "start_time": "2023-07-22T15:17:07.308Z"
   },
   {
    "duration": 22,
    "start_time": "2023-07-22T15:17:10.250Z"
   },
   {
    "duration": 2133,
    "start_time": "2023-07-22T15:17:10.275Z"
   },
   {
    "duration": 8,
    "start_time": "2023-07-22T15:17:12.410Z"
   },
   {
    "duration": 27,
    "start_time": "2023-07-22T15:17:12.419Z"
   },
   {
    "duration": 15643,
    "start_time": "2023-07-22T15:17:12.448Z"
   },
   {
    "duration": 226392,
    "start_time": "2023-07-22T15:17:28.094Z"
   },
   {
    "duration": 538345,
    "start_time": "2023-07-22T15:21:14.488Z"
   },
   {
    "duration": 9,
    "start_time": "2023-07-22T15:30:12.835Z"
   },
   {
    "duration": 9,
    "start_time": "2023-07-22T15:30:12.845Z"
   },
   {
    "duration": 164,
    "start_time": "2023-07-22T15:30:12.856Z"
   },
   {
    "duration": 220,
    "start_time": "2023-07-22T15:30:13.022Z"
   },
   {
    "duration": 269,
    "start_time": "2023-07-22T15:30:13.244Z"
   },
   {
    "duration": 5,
    "start_time": "2023-07-22T15:30:13.515Z"
   },
   {
    "duration": 5994,
    "start_time": "2023-07-23T16:25:14.994Z"
   },
   {
    "duration": 5,
    "start_time": "2023-07-23T16:25:20.990Z"
   },
   {
    "duration": 41,
    "start_time": "2023-07-23T16:25:20.997Z"
   },
   {
    "duration": 415,
    "start_time": "2023-07-23T16:25:21.041Z"
   },
   {
    "duration": 3,
    "start_time": "2023-07-23T16:25:21.457Z"
   },
   {
    "duration": 11,
    "start_time": "2023-07-23T16:25:21.461Z"
   },
   {
    "duration": 16,
    "start_time": "2023-07-23T16:25:21.473Z"
   },
   {
    "duration": 29,
    "start_time": "2023-07-23T16:25:21.491Z"
   },
   {
    "duration": 26,
    "start_time": "2023-07-23T16:25:21.522Z"
   },
   {
    "duration": 16,
    "start_time": "2023-07-23T16:25:21.550Z"
   },
   {
    "duration": 16,
    "start_time": "2023-07-23T16:25:21.567Z"
   },
   {
    "duration": 9,
    "start_time": "2023-07-23T16:25:21.585Z"
   },
   {
    "duration": 12,
    "start_time": "2023-07-23T16:25:21.595Z"
   },
   {
    "duration": 232,
    "start_time": "2023-07-23T16:25:21.608Z"
   },
   {
    "duration": 10,
    "start_time": "2023-07-23T16:25:21.843Z"
   },
   {
    "duration": 20,
    "start_time": "2023-07-23T16:25:21.855Z"
   },
   {
    "duration": 18,
    "start_time": "2023-07-23T16:25:21.877Z"
   },
   {
    "duration": 41,
    "start_time": "2023-07-23T16:25:21.896Z"
   },
   {
    "duration": 167,
    "start_time": "2023-07-23T16:25:21.939Z"
   },
   {
    "duration": 1297,
    "start_time": "2023-07-23T16:25:22.107Z"
   },
   {
    "duration": 138,
    "start_time": "2023-07-23T16:25:23.406Z"
   },
   {
    "duration": 8,
    "start_time": "2023-07-23T16:25:23.546Z"
   },
   {
    "duration": 1083,
    "start_time": "2023-07-23T16:25:23.556Z"
   },
   {
    "duration": 7,
    "start_time": "2023-07-23T16:25:24.640Z"
   },
   {
    "duration": 300,
    "start_time": "2023-07-23T16:25:24.648Z"
   },
   {
    "duration": 6,
    "start_time": "2023-07-23T16:25:24.950Z"
   },
   {
    "duration": 168,
    "start_time": "2023-07-23T16:25:24.958Z"
   },
   {
    "duration": 41,
    "start_time": "2023-07-23T16:25:25.130Z"
   },
   {
    "duration": 17,
    "start_time": "2023-07-23T16:25:25.172Z"
   },
   {
    "duration": 20,
    "start_time": "2023-07-23T16:25:25.190Z"
   },
   {
    "duration": 15,
    "start_time": "2023-07-23T16:25:25.212Z"
   },
   {
    "duration": 37,
    "start_time": "2023-07-23T16:25:25.228Z"
   },
   {
    "duration": 9,
    "start_time": "2023-07-23T16:25:25.266Z"
   },
   {
    "duration": 19,
    "start_time": "2023-07-23T16:25:25.277Z"
   },
   {
    "duration": 26,
    "start_time": "2023-07-23T16:25:25.297Z"
   },
   {
    "duration": 11,
    "start_time": "2023-07-23T16:25:25.324Z"
   },
   {
    "duration": 11,
    "start_time": "2023-07-23T16:25:25.336Z"
   },
   {
    "duration": 11,
    "start_time": "2023-07-23T16:25:25.348Z"
   },
   {
    "duration": 17,
    "start_time": "2023-07-23T16:25:25.361Z"
   },
   {
    "duration": 31,
    "start_time": "2023-07-23T16:25:25.379Z"
   },
   {
    "duration": 45,
    "start_time": "2023-07-23T16:25:25.412Z"
   },
   {
    "duration": 26,
    "start_time": "2023-07-23T16:25:25.459Z"
   },
   {
    "duration": 16,
    "start_time": "2023-07-23T16:25:25.486Z"
   },
   {
    "duration": 38,
    "start_time": "2023-07-23T16:25:25.503Z"
   },
   {
    "duration": 6,
    "start_time": "2023-07-23T16:25:25.543Z"
   },
   {
    "duration": 15,
    "start_time": "2023-07-23T16:25:25.550Z"
   },
   {
    "duration": 28,
    "start_time": "2023-07-23T16:25:25.567Z"
   },
   {
    "duration": 26,
    "start_time": "2023-07-23T16:25:25.597Z"
   },
   {
    "duration": 46,
    "start_time": "2023-07-23T16:25:25.624Z"
   },
   {
    "duration": 33,
    "start_time": "2023-07-23T16:25:25.672Z"
   },
   {
    "duration": 89,
    "start_time": "2023-07-23T16:25:25.706Z"
   },
   {
    "duration": 7,
    "start_time": "2023-07-23T16:25:25.797Z"
   },
   {
    "duration": 44,
    "start_time": "2023-07-23T16:25:25.806Z"
   },
   {
    "duration": 23,
    "start_time": "2023-07-23T16:25:25.851Z"
   },
   {
    "duration": 6,
    "start_time": "2023-07-23T16:25:25.875Z"
   },
   {
    "duration": 2759,
    "start_time": "2023-07-23T16:25:25.882Z"
   },
   {
    "duration": 21,
    "start_time": "2023-07-23T16:25:28.643Z"
   },
   {
    "duration": 2246,
    "start_time": "2023-07-23T16:25:28.665Z"
   },
   {
    "duration": 5,
    "start_time": "2023-07-23T16:25:30.920Z"
   },
   {
    "duration": 78,
    "start_time": "2023-07-23T16:25:30.928Z"
   },
   {
    "duration": 13023,
    "start_time": "2023-07-23T16:25:31.007Z"
   },
   {
    "duration": 211557,
    "start_time": "2023-07-23T16:25:44.121Z"
   },
   {
    "duration": 242806,
    "start_time": "2023-07-23T16:29:15.680Z"
   },
   {
    "duration": 3,
    "start_time": "2023-07-23T16:33:18.487Z"
   },
   {
    "duration": 156,
    "start_time": "2023-07-23T16:33:18.492Z"
   },
   {
    "duration": 156,
    "start_time": "2023-07-23T16:33:18.650Z"
   },
   {
    "duration": 240,
    "start_time": "2023-07-23T16:33:18.807Z"
   },
   {
    "duration": 4,
    "start_time": "2023-07-23T16:33:19.049Z"
   },
   {
    "duration": 20,
    "start_time": "2023-07-23T16:33:19.054Z"
   }
  ],
  "kernelspec": {
   "display_name": "Python 3 (ipykernel)",
   "language": "python",
   "name": "python3"
  },
  "language_info": {
   "codemirror_mode": {
    "name": "ipython",
    "version": 3
   },
   "file_extension": ".py",
   "mimetype": "text/x-python",
   "name": "python",
   "nbconvert_exporter": "python",
   "pygments_lexer": "ipython3",
   "version": "3.9.7"
  },
  "toc": {
   "base_numbering": 1,
   "nav_menu": {},
   "number_sections": true,
   "sideBar": true,
   "skip_h1_title": true,
   "title_cell": "Содержание",
   "title_sidebar": "Contents",
   "toc_cell": true,
   "toc_position": {
    "height": "calc(100% - 180px)",
    "left": "10px",
    "top": "150px",
    "width": "374.391px"
   },
   "toc_section_display": true,
   "toc_window_display": true
  }
 },
 "nbformat": 4,
 "nbformat_minor": 5
}
